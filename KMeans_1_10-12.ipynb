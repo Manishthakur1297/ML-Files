{
 "cells": [
  {
   "cell_type": "code",
   "execution_count": 1,
   "metadata": {},
   "outputs": [],
   "source": [
    "import pandas as pd\n",
    "import quandl"
   ]
  },
  {
   "cell_type": "code",
   "execution_count": 8,
   "metadata": {},
   "outputs": [
    {
     "data": {
      "text/html": [
       "<div>\n",
       "<style scoped>\n",
       "    .dataframe tbody tr th:only-of-type {\n",
       "        vertical-align: middle;\n",
       "    }\n",
       "\n",
       "    .dataframe tbody tr th {\n",
       "        vertical-align: top;\n",
       "    }\n",
       "\n",
       "    .dataframe thead th {\n",
       "        text-align: right;\n",
       "    }\n",
       "</style>\n",
       "<table border=\"1\" class=\"dataframe\">\n",
       "  <thead>\n",
       "    <tr style=\"text-align: right;\">\n",
       "      <th></th>\n",
       "      <th>Open</th>\n",
       "      <th>High</th>\n",
       "      <th>Low</th>\n",
       "      <th>Close</th>\n",
       "      <th>Volume</th>\n",
       "      <th>Ex-Dividend</th>\n",
       "      <th>Split Ratio</th>\n",
       "      <th>Adj. Open</th>\n",
       "      <th>Adj. High</th>\n",
       "      <th>Adj. Low</th>\n",
       "      <th>Adj. Close</th>\n",
       "      <th>Adj. Volume</th>\n",
       "    </tr>\n",
       "    <tr>\n",
       "      <th>Date</th>\n",
       "      <th></th>\n",
       "      <th></th>\n",
       "      <th></th>\n",
       "      <th></th>\n",
       "      <th></th>\n",
       "      <th></th>\n",
       "      <th></th>\n",
       "      <th></th>\n",
       "      <th></th>\n",
       "      <th></th>\n",
       "      <th></th>\n",
       "      <th></th>\n",
       "    </tr>\n",
       "  </thead>\n",
       "  <tbody>\n",
       "    <tr>\n",
       "      <th>2004-08-19</th>\n",
       "      <td>100.01</td>\n",
       "      <td>104.06</td>\n",
       "      <td>95.96</td>\n",
       "      <td>100.335</td>\n",
       "      <td>44659000.0</td>\n",
       "      <td>0.0</td>\n",
       "      <td>1.0</td>\n",
       "      <td>50.159839</td>\n",
       "      <td>52.191109</td>\n",
       "      <td>48.128568</td>\n",
       "      <td>50.322842</td>\n",
       "      <td>44659000.0</td>\n",
       "    </tr>\n",
       "    <tr>\n",
       "      <th>2004-08-20</th>\n",
       "      <td>101.01</td>\n",
       "      <td>109.08</td>\n",
       "      <td>100.50</td>\n",
       "      <td>108.310</td>\n",
       "      <td>22834300.0</td>\n",
       "      <td>0.0</td>\n",
       "      <td>1.0</td>\n",
       "      <td>50.661387</td>\n",
       "      <td>54.708881</td>\n",
       "      <td>50.405597</td>\n",
       "      <td>54.322689</td>\n",
       "      <td>22834300.0</td>\n",
       "    </tr>\n",
       "    <tr>\n",
       "      <th>2004-08-23</th>\n",
       "      <td>110.76</td>\n",
       "      <td>113.48</td>\n",
       "      <td>109.05</td>\n",
       "      <td>109.400</td>\n",
       "      <td>18256100.0</td>\n",
       "      <td>0.0</td>\n",
       "      <td>1.0</td>\n",
       "      <td>55.551482</td>\n",
       "      <td>56.915693</td>\n",
       "      <td>54.693835</td>\n",
       "      <td>54.869377</td>\n",
       "      <td>18256100.0</td>\n",
       "    </tr>\n",
       "    <tr>\n",
       "      <th>2004-08-24</th>\n",
       "      <td>111.24</td>\n",
       "      <td>111.60</td>\n",
       "      <td>103.57</td>\n",
       "      <td>104.870</td>\n",
       "      <td>15247300.0</td>\n",
       "      <td>0.0</td>\n",
       "      <td>1.0</td>\n",
       "      <td>55.792225</td>\n",
       "      <td>55.972783</td>\n",
       "      <td>51.945350</td>\n",
       "      <td>52.597363</td>\n",
       "      <td>15247300.0</td>\n",
       "    </tr>\n",
       "    <tr>\n",
       "      <th>2004-08-25</th>\n",
       "      <td>104.76</td>\n",
       "      <td>108.00</td>\n",
       "      <td>103.88</td>\n",
       "      <td>106.000</td>\n",
       "      <td>9188600.0</td>\n",
       "      <td>0.0</td>\n",
       "      <td>1.0</td>\n",
       "      <td>52.542193</td>\n",
       "      <td>54.167209</td>\n",
       "      <td>52.100830</td>\n",
       "      <td>53.164113</td>\n",
       "      <td>9188600.0</td>\n",
       "    </tr>\n",
       "  </tbody>\n",
       "</table>\n",
       "</div>"
      ],
      "text/plain": [
       "              Open    High     Low    Close      Volume  Ex-Dividend  \\\n",
       "Date                                                                   \n",
       "2004-08-19  100.01  104.06   95.96  100.335  44659000.0          0.0   \n",
       "2004-08-20  101.01  109.08  100.50  108.310  22834300.0          0.0   \n",
       "2004-08-23  110.76  113.48  109.05  109.400  18256100.0          0.0   \n",
       "2004-08-24  111.24  111.60  103.57  104.870  15247300.0          0.0   \n",
       "2004-08-25  104.76  108.00  103.88  106.000   9188600.0          0.0   \n",
       "\n",
       "            Split Ratio  Adj. Open  Adj. High   Adj. Low  Adj. Close  \\\n",
       "Date                                                                   \n",
       "2004-08-19          1.0  50.159839  52.191109  48.128568   50.322842   \n",
       "2004-08-20          1.0  50.661387  54.708881  50.405597   54.322689   \n",
       "2004-08-23          1.0  55.551482  56.915693  54.693835   54.869377   \n",
       "2004-08-24          1.0  55.792225  55.972783  51.945350   52.597363   \n",
       "2004-08-25          1.0  52.542193  54.167209  52.100830   53.164113   \n",
       "\n",
       "            Adj. Volume  \n",
       "Date                     \n",
       "2004-08-19   44659000.0  \n",
       "2004-08-20   22834300.0  \n",
       "2004-08-23   18256100.0  \n",
       "2004-08-24   15247300.0  \n",
       "2004-08-25    9188600.0  "
      ]
     },
     "execution_count": 8,
     "metadata": {},
     "output_type": "execute_result"
    }
   ],
   "source": [
    "quandl.ApiConfig.api_key = 'EaZgEavghgxuvmS2KN-e'\n",
    "df=quandl.get(\"WIKI/GOOGL\")\n",
    "df.head()"
   ]
  },
  {
   "cell_type": "code",
   "execution_count": 9,
   "metadata": {},
   "outputs": [
    {
     "data": {
      "text/html": [
       "<div>\n",
       "<style scoped>\n",
       "    .dataframe tbody tr th:only-of-type {\n",
       "        vertical-align: middle;\n",
       "    }\n",
       "\n",
       "    .dataframe tbody tr th {\n",
       "        vertical-align: top;\n",
       "    }\n",
       "\n",
       "    .dataframe thead th {\n",
       "        text-align: right;\n",
       "    }\n",
       "</style>\n",
       "<table border=\"1\" class=\"dataframe\">\n",
       "  <thead>\n",
       "    <tr style=\"text-align: right;\">\n",
       "      <th></th>\n",
       "      <th>Date</th>\n",
       "      <th>Open</th>\n",
       "      <th>High</th>\n",
       "      <th>Low</th>\n",
       "      <th>Close</th>\n",
       "      <th>Volume</th>\n",
       "      <th>Dividend</th>\n",
       "      <th>Split</th>\n",
       "      <th>Adj_Open</th>\n",
       "      <th>Adj_High</th>\n",
       "      <th>Adj_Low</th>\n",
       "      <th>Adj_Close</th>\n",
       "      <th>Adj_Volume</th>\n",
       "    </tr>\n",
       "  </thead>\n",
       "  <tbody>\n",
       "    <tr>\n",
       "      <th>0</th>\n",
       "      <td>2018-06-18</td>\n",
       "      <td>187.880</td>\n",
       "      <td>189.220</td>\n",
       "      <td>187.20</td>\n",
       "      <td>188.74</td>\n",
       "      <td>18484865.0</td>\n",
       "      <td>0.0</td>\n",
       "      <td>1.0</td>\n",
       "      <td>187.880</td>\n",
       "      <td>189.220</td>\n",
       "      <td>187.20</td>\n",
       "      <td>188.74</td>\n",
       "      <td>18484865.0</td>\n",
       "    </tr>\n",
       "    <tr>\n",
       "      <th>1</th>\n",
       "      <td>2018-06-15</td>\n",
       "      <td>190.030</td>\n",
       "      <td>190.160</td>\n",
       "      <td>188.26</td>\n",
       "      <td>188.84</td>\n",
       "      <td>61719160.0</td>\n",
       "      <td>0.0</td>\n",
       "      <td>1.0</td>\n",
       "      <td>190.030</td>\n",
       "      <td>190.160</td>\n",
       "      <td>188.26</td>\n",
       "      <td>188.84</td>\n",
       "      <td>61719160.0</td>\n",
       "    </tr>\n",
       "    <tr>\n",
       "      <th>2</th>\n",
       "      <td>2018-06-14</td>\n",
       "      <td>191.550</td>\n",
       "      <td>191.570</td>\n",
       "      <td>190.22</td>\n",
       "      <td>190.80</td>\n",
       "      <td>21610074.0</td>\n",
       "      <td>0.0</td>\n",
       "      <td>1.0</td>\n",
       "      <td>191.550</td>\n",
       "      <td>191.570</td>\n",
       "      <td>190.22</td>\n",
       "      <td>190.80</td>\n",
       "      <td>21610074.0</td>\n",
       "    </tr>\n",
       "    <tr>\n",
       "      <th>3</th>\n",
       "      <td>2018-06-13</td>\n",
       "      <td>192.420</td>\n",
       "      <td>192.880</td>\n",
       "      <td>190.44</td>\n",
       "      <td>190.70</td>\n",
       "      <td>21638393.0</td>\n",
       "      <td>0.0</td>\n",
       "      <td>1.0</td>\n",
       "      <td>192.420</td>\n",
       "      <td>192.880</td>\n",
       "      <td>190.44</td>\n",
       "      <td>190.70</td>\n",
       "      <td>21638393.0</td>\n",
       "    </tr>\n",
       "    <tr>\n",
       "      <th>4</th>\n",
       "      <td>2018-06-12</td>\n",
       "      <td>191.385</td>\n",
       "      <td>192.611</td>\n",
       "      <td>191.15</td>\n",
       "      <td>192.28</td>\n",
       "      <td>16911141.0</td>\n",
       "      <td>0.0</td>\n",
       "      <td>1.0</td>\n",
       "      <td>191.385</td>\n",
       "      <td>192.611</td>\n",
       "      <td>191.15</td>\n",
       "      <td>192.28</td>\n",
       "      <td>16911141.0</td>\n",
       "    </tr>\n",
       "  </tbody>\n",
       "</table>\n",
       "</div>"
      ],
      "text/plain": [
       "         Date     Open     High     Low   Close      Volume  Dividend  Split  \\\n",
       "0  2018-06-18  187.880  189.220  187.20  188.74  18484865.0       0.0    1.0   \n",
       "1  2018-06-15  190.030  190.160  188.26  188.84  61719160.0       0.0    1.0   \n",
       "2  2018-06-14  191.550  191.570  190.22  190.80  21610074.0       0.0    1.0   \n",
       "3  2018-06-13  192.420  192.880  190.44  190.70  21638393.0       0.0    1.0   \n",
       "4  2018-06-12  191.385  192.611  191.15  192.28  16911141.0       0.0    1.0   \n",
       "\n",
       "   Adj_Open  Adj_High  Adj_Low  Adj_Close  Adj_Volume  \n",
       "0   187.880   189.220   187.20     188.74  18484865.0  \n",
       "1   190.030   190.160   188.26     188.84  61719160.0  \n",
       "2   191.550   191.570   190.22     190.80  21610074.0  \n",
       "3   192.420   192.880   190.44     190.70  21638393.0  \n",
       "4   191.385   192.611   191.15     192.28  16911141.0  "
      ]
     },
     "execution_count": 9,
     "metadata": {},
     "output_type": "execute_result"
    }
   ],
   "source": [
    "df1=pd.read_csv('AAPL.csv')\n",
    "df1.head()"
   ]
  },
  {
   "cell_type": "code",
   "execution_count": 12,
   "metadata": {},
   "outputs": [
    {
     "data": {
      "text/plain": [
       "str"
      ]
     },
     "execution_count": 12,
     "metadata": {},
     "output_type": "execute_result"
    }
   ],
   "source": [
    "type(df1.Date[0])"
   ]
  },
  {
   "cell_type": "code",
   "execution_count": 15,
   "metadata": {
    "scrolled": true
   },
   "outputs": [
    {
     "ename": "TypeError",
     "evalue": "unsupported operand type(s) for -: 'str' and 'str'",
     "output_type": "error",
     "traceback": [
      "\u001b[1;31m---------------------------------------------------------------------------\u001b[0m",
      "\u001b[1;31mTypeError\u001b[0m                                 Traceback (most recent call last)",
      "\u001b[1;32m<ipython-input-15-97717e6210d7>\u001b[0m in \u001b[0;36m<module>\u001b[1;34m()\u001b[0m\n\u001b[1;32m----> 1\u001b[1;33m \u001b[0mdf1\u001b[0m\u001b[1;33m.\u001b[0m\u001b[0mDate\u001b[0m\u001b[1;33m[\u001b[0m\u001b[1;36m1\u001b[0m\u001b[1;33m]\u001b[0m\u001b[1;33m-\u001b[0m\u001b[0mdf1\u001b[0m\u001b[1;33m.\u001b[0m\u001b[0mDate\u001b[0m\u001b[1;33m[\u001b[0m\u001b[1;36m1\u001b[0m\u001b[1;33m]\u001b[0m\u001b[1;33m\u001b[0m\u001b[0m\n\u001b[0m",
      "\u001b[1;31mTypeError\u001b[0m: unsupported operand type(s) for -: 'str' and 'str'"
     ]
    }
   ],
   "source": [
    "df1.Date[1]-df1.Date[1]"
   ]
  },
  {
   "cell_type": "code",
   "execution_count": 16,
   "metadata": {
    "scrolled": true
   },
   "outputs": [
    {
     "data": {
      "text/plain": [
       "0      2018-06-18\n",
       "1      2018-06-15\n",
       "2      2018-06-14\n",
       "3      2018-06-13\n",
       "4      2018-06-12\n",
       "5      2018-06-11\n",
       "6      2018-06-08\n",
       "7      2018-06-07\n",
       "8      2018-06-06\n",
       "9      2018-06-05\n",
       "10     2018-06-04\n",
       "11     2018-06-01\n",
       "12     2018-05-31\n",
       "13     2018-05-30\n",
       "14     2018-05-29\n",
       "15     2018-05-25\n",
       "16     2018-05-24\n",
       "17     2018-05-23\n",
       "18     2018-05-22\n",
       "19     2018-05-21\n",
       "20     2018-05-18\n",
       "21     2018-05-17\n",
       "22     2018-05-16\n",
       "23     2018-05-15\n",
       "24     2018-05-14\n",
       "25     2018-05-11\n",
       "26     2018-05-10\n",
       "27     2018-05-09\n",
       "28     2018-05-08\n",
       "29     2018-05-07\n",
       "          ...    \n",
       "9429   1981-01-26\n",
       "9430   1981-01-23\n",
       "9431   1981-01-22\n",
       "9432   1981-01-21\n",
       "9433   1981-01-20\n",
       "9434   1981-01-19\n",
       "9435   1981-01-16\n",
       "9436   1981-01-15\n",
       "9437   1981-01-14\n",
       "9438   1981-01-13\n",
       "9439   1981-01-12\n",
       "9440   1981-01-09\n",
       "9441   1981-01-08\n",
       "9442   1981-01-07\n",
       "9443   1981-01-06\n",
       "9444   1981-01-05\n",
       "9445   1981-01-02\n",
       "9446   1980-12-31\n",
       "9447   1980-12-30\n",
       "9448   1980-12-29\n",
       "9449   1980-12-26\n",
       "9450   1980-12-24\n",
       "9451   1980-12-23\n",
       "9452   1980-12-22\n",
       "9453   1980-12-19\n",
       "9454   1980-12-18\n",
       "9455   1980-12-17\n",
       "9456   1980-12-16\n",
       "9457   1980-12-15\n",
       "9458   1980-12-12\n",
       "Name: Date, Length: 9459, dtype: datetime64[ns]"
      ]
     },
     "execution_count": 16,
     "metadata": {},
     "output_type": "execute_result"
    }
   ],
   "source": [
    "pd.to_datetime(df1.Date)"
   ]
  },
  {
   "cell_type": "code",
   "execution_count": 17,
   "metadata": {},
   "outputs": [],
   "source": [
    "df1.set_index(\"Date\",inplace=True)"
   ]
  },
  {
   "cell_type": "code",
   "execution_count": 18,
   "metadata": {},
   "outputs": [
    {
     "data": {
      "text/plain": [
       "DatetimeIndex(['2018-06-18', '2018-06-15', '2018-06-14', '2018-06-13',\n",
       "               '2018-06-12', '2018-06-11', '2018-06-08', '2018-06-07',\n",
       "               '2018-06-06', '2018-06-05',\n",
       "               ...\n",
       "               '1980-12-26', '1980-12-24', '1980-12-23', '1980-12-22',\n",
       "               '1980-12-19', '1980-12-18', '1980-12-17', '1980-12-16',\n",
       "               '1980-12-15', '1980-12-12'],\n",
       "              dtype='datetime64[ns]', name='Date', length=9459, freq=None)"
      ]
     },
     "execution_count": 18,
     "metadata": {},
     "output_type": "execute_result"
    }
   ],
   "source": [
    "dt=pd.to_datetime(df1.index)\n",
    "dt"
   ]
  },
  {
   "cell_type": "code",
   "execution_count": 19,
   "metadata": {},
   "outputs": [
    {
     "data": {
      "text/plain": [
       "pandas._libs.tslibs.timestamps.Timestamp"
      ]
     },
     "execution_count": 19,
     "metadata": {},
     "output_type": "execute_result"
    }
   ],
   "source": [
    "type(dt[0])"
   ]
  },
  {
   "cell_type": "code",
   "execution_count": 20,
   "metadata": {},
   "outputs": [
    {
     "data": {
      "text/plain": [
       "Timestamp('2018-06-15 00:00:00')"
      ]
     },
     "execution_count": 20,
     "metadata": {},
     "output_type": "execute_result"
    }
   ],
   "source": [
    "dt[1]"
   ]
  },
  {
   "cell_type": "code",
   "execution_count": 21,
   "metadata": {},
   "outputs": [
    {
     "data": {
      "text/plain": [
       "Timestamp('2018-06-11 00:00:00')"
      ]
     },
     "execution_count": 21,
     "metadata": {},
     "output_type": "execute_result"
    }
   ],
   "source": [
    "dt[5]"
   ]
  },
  {
   "cell_type": "code",
   "execution_count": 26,
   "metadata": {},
   "outputs": [
    {
     "data": {
      "text/plain": [
       "-4"
      ]
     },
     "execution_count": 26,
     "metadata": {},
     "output_type": "execute_result"
    }
   ],
   "source": [
    "(dt[5]-dt[1]).days"
   ]
  },
  {
   "cell_type": "code",
   "execution_count": 27,
   "metadata": {},
   "outputs": [
    {
     "data": {
      "text/plain": [
       "str"
      ]
     },
     "execution_count": 27,
     "metadata": {},
     "output_type": "execute_result"
    }
   ],
   "source": [
    "type(df1.index[0])"
   ]
  },
  {
   "cell_type": "code",
   "execution_count": 28,
   "metadata": {},
   "outputs": [],
   "source": [
    "df1.index=dt"
   ]
  },
  {
   "cell_type": "code",
   "execution_count": 31,
   "metadata": {
    "scrolled": true
   },
   "outputs": [
    {
     "data": {
      "text/html": [
       "<div>\n",
       "<style scoped>\n",
       "    .dataframe tbody tr th:only-of-type {\n",
       "        vertical-align: middle;\n",
       "    }\n",
       "\n",
       "    .dataframe tbody tr th {\n",
       "        vertical-align: top;\n",
       "    }\n",
       "\n",
       "    .dataframe thead th {\n",
       "        text-align: right;\n",
       "    }\n",
       "</style>\n",
       "<table border=\"1\" class=\"dataframe\">\n",
       "  <thead>\n",
       "    <tr style=\"text-align: right;\">\n",
       "      <th></th>\n",
       "      <th>Open</th>\n",
       "      <th>High</th>\n",
       "      <th>Low</th>\n",
       "      <th>Close</th>\n",
       "      <th>Volume</th>\n",
       "      <th>Dividend</th>\n",
       "      <th>Split</th>\n",
       "      <th>Adj_Open</th>\n",
       "      <th>Adj_High</th>\n",
       "      <th>Adj_Low</th>\n",
       "      <th>Adj_Close</th>\n",
       "      <th>Adj_Volume</th>\n",
       "    </tr>\n",
       "    <tr>\n",
       "      <th>Date</th>\n",
       "      <th></th>\n",
       "      <th></th>\n",
       "      <th></th>\n",
       "      <th></th>\n",
       "      <th></th>\n",
       "      <th></th>\n",
       "      <th></th>\n",
       "      <th></th>\n",
       "      <th></th>\n",
       "      <th></th>\n",
       "      <th></th>\n",
       "      <th></th>\n",
       "    </tr>\n",
       "  </thead>\n",
       "  <tbody>\n",
       "    <tr>\n",
       "      <th>2018-06-18</th>\n",
       "      <td>187.880</td>\n",
       "      <td>189.220</td>\n",
       "      <td>187.20</td>\n",
       "      <td>188.74</td>\n",
       "      <td>18484865.0</td>\n",
       "      <td>0.0</td>\n",
       "      <td>1.0</td>\n",
       "      <td>187.880</td>\n",
       "      <td>189.220</td>\n",
       "      <td>187.20</td>\n",
       "      <td>188.74</td>\n",
       "      <td>18484865.0</td>\n",
       "    </tr>\n",
       "    <tr>\n",
       "      <th>2018-06-15</th>\n",
       "      <td>190.030</td>\n",
       "      <td>190.160</td>\n",
       "      <td>188.26</td>\n",
       "      <td>188.84</td>\n",
       "      <td>61719160.0</td>\n",
       "      <td>0.0</td>\n",
       "      <td>1.0</td>\n",
       "      <td>190.030</td>\n",
       "      <td>190.160</td>\n",
       "      <td>188.26</td>\n",
       "      <td>188.84</td>\n",
       "      <td>61719160.0</td>\n",
       "    </tr>\n",
       "    <tr>\n",
       "      <th>2018-06-14</th>\n",
       "      <td>191.550</td>\n",
       "      <td>191.570</td>\n",
       "      <td>190.22</td>\n",
       "      <td>190.80</td>\n",
       "      <td>21610074.0</td>\n",
       "      <td>0.0</td>\n",
       "      <td>1.0</td>\n",
       "      <td>191.550</td>\n",
       "      <td>191.570</td>\n",
       "      <td>190.22</td>\n",
       "      <td>190.80</td>\n",
       "      <td>21610074.0</td>\n",
       "    </tr>\n",
       "    <tr>\n",
       "      <th>2018-06-13</th>\n",
       "      <td>192.420</td>\n",
       "      <td>192.880</td>\n",
       "      <td>190.44</td>\n",
       "      <td>190.70</td>\n",
       "      <td>21638393.0</td>\n",
       "      <td>0.0</td>\n",
       "      <td>1.0</td>\n",
       "      <td>192.420</td>\n",
       "      <td>192.880</td>\n",
       "      <td>190.44</td>\n",
       "      <td>190.70</td>\n",
       "      <td>21638393.0</td>\n",
       "    </tr>\n",
       "    <tr>\n",
       "      <th>2018-06-12</th>\n",
       "      <td>191.385</td>\n",
       "      <td>192.611</td>\n",
       "      <td>191.15</td>\n",
       "      <td>192.28</td>\n",
       "      <td>16911141.0</td>\n",
       "      <td>0.0</td>\n",
       "      <td>1.0</td>\n",
       "      <td>191.385</td>\n",
       "      <td>192.611</td>\n",
       "      <td>191.15</td>\n",
       "      <td>192.28</td>\n",
       "      <td>16911141.0</td>\n",
       "    </tr>\n",
       "  </tbody>\n",
       "</table>\n",
       "</div>"
      ],
      "text/plain": [
       "               Open     High     Low   Close      Volume  Dividend  Split  \\\n",
       "Date                                                                        \n",
       "2018-06-18  187.880  189.220  187.20  188.74  18484865.0       0.0    1.0   \n",
       "2018-06-15  190.030  190.160  188.26  188.84  61719160.0       0.0    1.0   \n",
       "2018-06-14  191.550  191.570  190.22  190.80  21610074.0       0.0    1.0   \n",
       "2018-06-13  192.420  192.880  190.44  190.70  21638393.0       0.0    1.0   \n",
       "2018-06-12  191.385  192.611  191.15  192.28  16911141.0       0.0    1.0   \n",
       "\n",
       "            Adj_Open  Adj_High  Adj_Low  Adj_Close  Adj_Volume  \n",
       "Date                                                            \n",
       "2018-06-18   187.880   189.220   187.20     188.74  18484865.0  \n",
       "2018-06-15   190.030   190.160   188.26     188.84  61719160.0  \n",
       "2018-06-14   191.550   191.570   190.22     190.80  21610074.0  \n",
       "2018-06-13   192.420   192.880   190.44     190.70  21638393.0  \n",
       "2018-06-12   191.385   192.611   191.15     192.28  16911141.0  "
      ]
     },
     "execution_count": 31,
     "metadata": {},
     "output_type": "execute_result"
    }
   ],
   "source": [
    "df1.head()"
   ]
  },
  {
   "cell_type": "code",
   "execution_count": 32,
   "metadata": {},
   "outputs": [
    {
     "data": {
      "text/plain": [
       "pandas._libs.tslibs.timestamps.Timestamp"
      ]
     },
     "execution_count": 32,
     "metadata": {},
     "output_type": "execute_result"
    }
   ],
   "source": [
    "type(df1.index[0])"
   ]
  },
  {
   "cell_type": "code",
   "execution_count": 33,
   "metadata": {},
   "outputs": [
    {
     "data": {
      "text/html": [
       "<div>\n",
       "<style scoped>\n",
       "    .dataframe tbody tr th:only-of-type {\n",
       "        vertical-align: middle;\n",
       "    }\n",
       "\n",
       "    .dataframe tbody tr th {\n",
       "        vertical-align: top;\n",
       "    }\n",
       "\n",
       "    .dataframe thead th {\n",
       "        text-align: right;\n",
       "    }\n",
       "</style>\n",
       "<table border=\"1\" class=\"dataframe\">\n",
       "  <thead>\n",
       "    <tr style=\"text-align: right;\">\n",
       "      <th></th>\n",
       "      <th>Open</th>\n",
       "      <th>High</th>\n",
       "      <th>Low</th>\n",
       "      <th>Close</th>\n",
       "      <th>Volume</th>\n",
       "      <th>Dividend</th>\n",
       "      <th>Split</th>\n",
       "      <th>Adj_Open</th>\n",
       "      <th>Adj_High</th>\n",
       "      <th>Adj_Low</th>\n",
       "      <th>Adj_Close</th>\n",
       "      <th>Adj_Volume</th>\n",
       "    </tr>\n",
       "    <tr>\n",
       "      <th>Date</th>\n",
       "      <th></th>\n",
       "      <th></th>\n",
       "      <th></th>\n",
       "      <th></th>\n",
       "      <th></th>\n",
       "      <th></th>\n",
       "      <th></th>\n",
       "      <th></th>\n",
       "      <th></th>\n",
       "      <th></th>\n",
       "      <th></th>\n",
       "      <th></th>\n",
       "    </tr>\n",
       "  </thead>\n",
       "  <tbody>\n",
       "    <tr>\n",
       "      <th>2018-06-18</th>\n",
       "      <td>187.880</td>\n",
       "      <td>189.220</td>\n",
       "      <td>187.20</td>\n",
       "      <td>188.74</td>\n",
       "      <td>18484865.0</td>\n",
       "      <td>0.0</td>\n",
       "      <td>1.0</td>\n",
       "      <td>187.880</td>\n",
       "      <td>189.220</td>\n",
       "      <td>187.20</td>\n",
       "      <td>188.74</td>\n",
       "      <td>18484865.0</td>\n",
       "    </tr>\n",
       "    <tr>\n",
       "      <th>2018-06-15</th>\n",
       "      <td>190.030</td>\n",
       "      <td>190.160</td>\n",
       "      <td>188.26</td>\n",
       "      <td>188.84</td>\n",
       "      <td>61719160.0</td>\n",
       "      <td>0.0</td>\n",
       "      <td>1.0</td>\n",
       "      <td>190.030</td>\n",
       "      <td>190.160</td>\n",
       "      <td>188.26</td>\n",
       "      <td>188.84</td>\n",
       "      <td>61719160.0</td>\n",
       "    </tr>\n",
       "    <tr>\n",
       "      <th>2018-06-14</th>\n",
       "      <td>191.550</td>\n",
       "      <td>191.570</td>\n",
       "      <td>190.22</td>\n",
       "      <td>190.80</td>\n",
       "      <td>21610074.0</td>\n",
       "      <td>0.0</td>\n",
       "      <td>1.0</td>\n",
       "      <td>191.550</td>\n",
       "      <td>191.570</td>\n",
       "      <td>190.22</td>\n",
       "      <td>190.80</td>\n",
       "      <td>21610074.0</td>\n",
       "    </tr>\n",
       "    <tr>\n",
       "      <th>2018-06-13</th>\n",
       "      <td>192.420</td>\n",
       "      <td>192.880</td>\n",
       "      <td>190.44</td>\n",
       "      <td>190.70</td>\n",
       "      <td>21638393.0</td>\n",
       "      <td>0.0</td>\n",
       "      <td>1.0</td>\n",
       "      <td>192.420</td>\n",
       "      <td>192.880</td>\n",
       "      <td>190.44</td>\n",
       "      <td>190.70</td>\n",
       "      <td>21638393.0</td>\n",
       "    </tr>\n",
       "    <tr>\n",
       "      <th>2018-06-12</th>\n",
       "      <td>191.385</td>\n",
       "      <td>192.611</td>\n",
       "      <td>191.15</td>\n",
       "      <td>192.28</td>\n",
       "      <td>16911141.0</td>\n",
       "      <td>0.0</td>\n",
       "      <td>1.0</td>\n",
       "      <td>191.385</td>\n",
       "      <td>192.611</td>\n",
       "      <td>191.15</td>\n",
       "      <td>192.28</td>\n",
       "      <td>16911141.0</td>\n",
       "    </tr>\n",
       "  </tbody>\n",
       "</table>\n",
       "</div>"
      ],
      "text/plain": [
       "               Open     High     Low   Close      Volume  Dividend  Split  \\\n",
       "Date                                                                        \n",
       "2018-06-18  187.880  189.220  187.20  188.74  18484865.0       0.0    1.0   \n",
       "2018-06-15  190.030  190.160  188.26  188.84  61719160.0       0.0    1.0   \n",
       "2018-06-14  191.550  191.570  190.22  190.80  21610074.0       0.0    1.0   \n",
       "2018-06-13  192.420  192.880  190.44  190.70  21638393.0       0.0    1.0   \n",
       "2018-06-12  191.385  192.611  191.15  192.28  16911141.0       0.0    1.0   \n",
       "\n",
       "            Adj_Open  Adj_High  Adj_Low  Adj_Close  Adj_Volume  \n",
       "Date                                                            \n",
       "2018-06-18   187.880   189.220   187.20     188.74  18484865.0  \n",
       "2018-06-15   190.030   190.160   188.26     188.84  61719160.0  \n",
       "2018-06-14   191.550   191.570   190.22     190.80  21610074.0  \n",
       "2018-06-13   192.420   192.880   190.44     190.70  21638393.0  \n",
       "2018-06-12   191.385   192.611   191.15     192.28  16911141.0  "
      ]
     },
     "execution_count": 33,
     "metadata": {},
     "output_type": "execute_result"
    }
   ],
   "source": [
    "df1.head()"
   ]
  },
  {
   "cell_type": "code",
   "execution_count": 34,
   "metadata": {
    "scrolled": true
   },
   "outputs": [
    {
     "data": {
      "text/plain": [
       "pandas._libs.tslibs.timestamps.Timestamp"
      ]
     },
     "execution_count": 34,
     "metadata": {},
     "output_type": "execute_result"
    }
   ],
   "source": [
    "type(df1.index[0])"
   ]
  },
  {
   "cell_type": "code",
   "execution_count": 35,
   "metadata": {},
   "outputs": [
    {
     "name": "stdout",
     "output_type": "stream",
     "text": [
      "<class 'pandas.core.frame.DataFrame'>\n",
      "DatetimeIndex: 9459 entries, 2018-06-18 to 1980-12-12\n",
      "Data columns (total 12 columns):\n",
      "Open          9459 non-null float64\n",
      "High          9459 non-null float64\n",
      "Low           9459 non-null float64\n",
      "Close         9459 non-null float64\n",
      "Volume        9459 non-null float64\n",
      "Dividend      9459 non-null float64\n",
      "Split         9459 non-null float64\n",
      "Adj_Open      9459 non-null float64\n",
      "Adj_High      9459 non-null float64\n",
      "Adj_Low       9459 non-null float64\n",
      "Adj_Close     9459 non-null float64\n",
      "Adj_Volume    9459 non-null float64\n",
      "dtypes: float64(12)\n",
      "memory usage: 960.7 KB\n"
     ]
    }
   ],
   "source": [
    "df1.info()"
   ]
  },
  {
   "cell_type": "code",
   "execution_count": 43,
   "metadata": {
    "scrolled": true
   },
   "outputs": [
    {
     "data": {
      "text/plain": [
       "DatetimeIndex(['2018-06-18', '2018-06-19', '2018-06-20', '2018-06-21',\n",
       "               '2018-06-22', '2018-06-25', '2018-06-26', '2018-06-27',\n",
       "               '2018-06-28', '2018-06-29',\n",
       "               ...\n",
       "               '2054-09-04', '2054-09-07', '2054-09-08', '2054-09-09',\n",
       "               '2054-09-10', '2054-09-11', '2054-09-14', '2054-09-15',\n",
       "               '2054-09-16', '2054-09-17'],\n",
       "              dtype='datetime64[ns]', length=9459, freq='B')"
      ]
     },
     "execution_count": 43,
     "metadata": {},
     "output_type": "execute_result"
    }
   ],
   "source": [
    "t=pd.date_range('2018-06-18',periods=9459,freq='B')\n",
    "t"
   ]
  },
  {
   "cell_type": "code",
   "execution_count": 44,
   "metadata": {
    "scrolled": true
   },
   "outputs": [
    {
     "data": {
      "text/html": [
       "<div>\n",
       "<style scoped>\n",
       "    .dataframe tbody tr th:only-of-type {\n",
       "        vertical-align: middle;\n",
       "    }\n",
       "\n",
       "    .dataframe tbody tr th {\n",
       "        vertical-align: top;\n",
       "    }\n",
       "\n",
       "    .dataframe thead th {\n",
       "        text-align: right;\n",
       "    }\n",
       "</style>\n",
       "<table border=\"1\" class=\"dataframe\">\n",
       "  <thead>\n",
       "    <tr style=\"text-align: right;\">\n",
       "      <th></th>\n",
       "      <th>Open</th>\n",
       "      <th>High</th>\n",
       "      <th>Low</th>\n",
       "      <th>Close</th>\n",
       "      <th>Volume</th>\n",
       "      <th>Dividend</th>\n",
       "      <th>Split</th>\n",
       "      <th>Adj_Open</th>\n",
       "      <th>Adj_High</th>\n",
       "      <th>Adj_Low</th>\n",
       "      <th>Adj_Close</th>\n",
       "      <th>Adj_Volume</th>\n",
       "    </tr>\n",
       "  </thead>\n",
       "  <tbody>\n",
       "    <tr>\n",
       "      <th>2018-06-18</th>\n",
       "      <td>187.880</td>\n",
       "      <td>189.220</td>\n",
       "      <td>187.20</td>\n",
       "      <td>188.74</td>\n",
       "      <td>18484865.0</td>\n",
       "      <td>0.0</td>\n",
       "      <td>1.0</td>\n",
       "      <td>187.880</td>\n",
       "      <td>189.220</td>\n",
       "      <td>187.20</td>\n",
       "      <td>188.74</td>\n",
       "      <td>18484865.0</td>\n",
       "    </tr>\n",
       "    <tr>\n",
       "      <th>2018-06-19</th>\n",
       "      <td>190.030</td>\n",
       "      <td>190.160</td>\n",
       "      <td>188.26</td>\n",
       "      <td>188.84</td>\n",
       "      <td>61719160.0</td>\n",
       "      <td>0.0</td>\n",
       "      <td>1.0</td>\n",
       "      <td>190.030</td>\n",
       "      <td>190.160</td>\n",
       "      <td>188.26</td>\n",
       "      <td>188.84</td>\n",
       "      <td>61719160.0</td>\n",
       "    </tr>\n",
       "    <tr>\n",
       "      <th>2018-06-20</th>\n",
       "      <td>191.550</td>\n",
       "      <td>191.570</td>\n",
       "      <td>190.22</td>\n",
       "      <td>190.80</td>\n",
       "      <td>21610074.0</td>\n",
       "      <td>0.0</td>\n",
       "      <td>1.0</td>\n",
       "      <td>191.550</td>\n",
       "      <td>191.570</td>\n",
       "      <td>190.22</td>\n",
       "      <td>190.80</td>\n",
       "      <td>21610074.0</td>\n",
       "    </tr>\n",
       "    <tr>\n",
       "      <th>2018-06-21</th>\n",
       "      <td>192.420</td>\n",
       "      <td>192.880</td>\n",
       "      <td>190.44</td>\n",
       "      <td>190.70</td>\n",
       "      <td>21638393.0</td>\n",
       "      <td>0.0</td>\n",
       "      <td>1.0</td>\n",
       "      <td>192.420</td>\n",
       "      <td>192.880</td>\n",
       "      <td>190.44</td>\n",
       "      <td>190.70</td>\n",
       "      <td>21638393.0</td>\n",
       "    </tr>\n",
       "    <tr>\n",
       "      <th>2018-06-22</th>\n",
       "      <td>191.385</td>\n",
       "      <td>192.611</td>\n",
       "      <td>191.15</td>\n",
       "      <td>192.28</td>\n",
       "      <td>16911141.0</td>\n",
       "      <td>0.0</td>\n",
       "      <td>1.0</td>\n",
       "      <td>191.385</td>\n",
       "      <td>192.611</td>\n",
       "      <td>191.15</td>\n",
       "      <td>192.28</td>\n",
       "      <td>16911141.0</td>\n",
       "    </tr>\n",
       "  </tbody>\n",
       "</table>\n",
       "</div>"
      ],
      "text/plain": [
       "               Open     High     Low   Close      Volume  Dividend  Split  \\\n",
       "2018-06-18  187.880  189.220  187.20  188.74  18484865.0       0.0    1.0   \n",
       "2018-06-19  190.030  190.160  188.26  188.84  61719160.0       0.0    1.0   \n",
       "2018-06-20  191.550  191.570  190.22  190.80  21610074.0       0.0    1.0   \n",
       "2018-06-21  192.420  192.880  190.44  190.70  21638393.0       0.0    1.0   \n",
       "2018-06-22  191.385  192.611  191.15  192.28  16911141.0       0.0    1.0   \n",
       "\n",
       "            Adj_Open  Adj_High  Adj_Low  Adj_Close  Adj_Volume  \n",
       "2018-06-18   187.880   189.220   187.20     188.74  18484865.0  \n",
       "2018-06-19   190.030   190.160   188.26     188.84  61719160.0  \n",
       "2018-06-20   191.550   191.570   190.22     190.80  21610074.0  \n",
       "2018-06-21   192.420   192.880   190.44     190.70  21638393.0  \n",
       "2018-06-22   191.385   192.611   191.15     192.28  16911141.0  "
      ]
     },
     "execution_count": 44,
     "metadata": {},
     "output_type": "execute_result"
    }
   ],
   "source": [
    "df1.index=t\n",
    "df1.head()"
   ]
  },
  {
   "cell_type": "code",
   "execution_count": 50,
   "metadata": {},
   "outputs": [
    {
     "data": {
      "text/html": [
       "<div>\n",
       "<style scoped>\n",
       "    .dataframe tbody tr th:only-of-type {\n",
       "        vertical-align: middle;\n",
       "    }\n",
       "\n",
       "    .dataframe tbody tr th {\n",
       "        vertical-align: top;\n",
       "    }\n",
       "\n",
       "    .dataframe thead th {\n",
       "        text-align: right;\n",
       "    }\n",
       "</style>\n",
       "<table border=\"1\" class=\"dataframe\">\n",
       "  <thead>\n",
       "    <tr style=\"text-align: right;\">\n",
       "      <th></th>\n",
       "      <th>Open</th>\n",
       "      <th>High</th>\n",
       "      <th>Low</th>\n",
       "      <th>Close</th>\n",
       "      <th>Volume</th>\n",
       "      <th>Dividend</th>\n",
       "      <th>Split</th>\n",
       "      <th>Adj_Open</th>\n",
       "      <th>Adj_High</th>\n",
       "      <th>Adj_Low</th>\n",
       "      <th>Adj_Close</th>\n",
       "      <th>Adj_Volume</th>\n",
       "    </tr>\n",
       "  </thead>\n",
       "  <tbody>\n",
       "    <tr>\n",
       "      <th>2018-06-18</th>\n",
       "      <td>187.880</td>\n",
       "      <td>189.220</td>\n",
       "      <td>187.20</td>\n",
       "      <td>188.74</td>\n",
       "      <td>18484865.0</td>\n",
       "      <td>0.0</td>\n",
       "      <td>1.0</td>\n",
       "      <td>187.880</td>\n",
       "      <td>189.220</td>\n",
       "      <td>187.20</td>\n",
       "      <td>188.74</td>\n",
       "      <td>18484865.0</td>\n",
       "    </tr>\n",
       "    <tr>\n",
       "      <th>2018-06-19</th>\n",
       "      <td>190.030</td>\n",
       "      <td>190.160</td>\n",
       "      <td>188.26</td>\n",
       "      <td>188.84</td>\n",
       "      <td>61719160.0</td>\n",
       "      <td>0.0</td>\n",
       "      <td>1.0</td>\n",
       "      <td>190.030</td>\n",
       "      <td>190.160</td>\n",
       "      <td>188.26</td>\n",
       "      <td>188.84</td>\n",
       "      <td>61719160.0</td>\n",
       "    </tr>\n",
       "    <tr>\n",
       "      <th>2018-06-20</th>\n",
       "      <td>191.550</td>\n",
       "      <td>191.570</td>\n",
       "      <td>190.22</td>\n",
       "      <td>190.80</td>\n",
       "      <td>21610074.0</td>\n",
       "      <td>0.0</td>\n",
       "      <td>1.0</td>\n",
       "      <td>191.550</td>\n",
       "      <td>191.570</td>\n",
       "      <td>190.22</td>\n",
       "      <td>190.80</td>\n",
       "      <td>21610074.0</td>\n",
       "    </tr>\n",
       "    <tr>\n",
       "      <th>2018-06-21</th>\n",
       "      <td>192.420</td>\n",
       "      <td>192.880</td>\n",
       "      <td>190.44</td>\n",
       "      <td>190.70</td>\n",
       "      <td>21638393.0</td>\n",
       "      <td>0.0</td>\n",
       "      <td>1.0</td>\n",
       "      <td>192.420</td>\n",
       "      <td>192.880</td>\n",
       "      <td>190.44</td>\n",
       "      <td>190.70</td>\n",
       "      <td>21638393.0</td>\n",
       "    </tr>\n",
       "    <tr>\n",
       "      <th>2018-06-22</th>\n",
       "      <td>191.385</td>\n",
       "      <td>192.611</td>\n",
       "      <td>191.15</td>\n",
       "      <td>192.28</td>\n",
       "      <td>16911141.0</td>\n",
       "      <td>0.0</td>\n",
       "      <td>1.0</td>\n",
       "      <td>191.385</td>\n",
       "      <td>192.611</td>\n",
       "      <td>191.15</td>\n",
       "      <td>192.28</td>\n",
       "      <td>16911141.0</td>\n",
       "    </tr>\n",
       "  </tbody>\n",
       "</table>\n",
       "</div>"
      ],
      "text/plain": [
       "               Open     High     Low   Close      Volume  Dividend  Split  \\\n",
       "2018-06-18  187.880  189.220  187.20  188.74  18484865.0       0.0    1.0   \n",
       "2018-06-19  190.030  190.160  188.26  188.84  61719160.0       0.0    1.0   \n",
       "2018-06-20  191.550  191.570  190.22  190.80  21610074.0       0.0    1.0   \n",
       "2018-06-21  192.420  192.880  190.44  190.70  21638393.0       0.0    1.0   \n",
       "2018-06-22  191.385  192.611  191.15  192.28  16911141.0       0.0    1.0   \n",
       "\n",
       "            Adj_Open  Adj_High  Adj_Low  Adj_Close  Adj_Volume  \n",
       "2018-06-18   187.880   189.220   187.20     188.74  18484865.0  \n",
       "2018-06-19   190.030   190.160   188.26     188.84  61719160.0  \n",
       "2018-06-20   191.550   191.570   190.22     190.80  21610074.0  \n",
       "2018-06-21   192.420   192.880   190.44     190.70  21638393.0  \n",
       "2018-06-22   191.385   192.611   191.15     192.28  16911141.0  "
      ]
     },
     "execution_count": 50,
     "metadata": {},
     "output_type": "execute_result"
    }
   ],
   "source": [
    "type(df1.index[0])\n",
    "df1.head()"
   ]
  },
  {
   "cell_type": "code",
   "execution_count": 51,
   "metadata": {
    "scrolled": false
   },
   "outputs": [
    {
     "data": {
      "text/html": [
       "<div>\n",
       "<style scoped>\n",
       "    .dataframe tbody tr th:only-of-type {\n",
       "        vertical-align: middle;\n",
       "    }\n",
       "\n",
       "    .dataframe tbody tr th {\n",
       "        vertical-align: top;\n",
       "    }\n",
       "\n",
       "    .dataframe thead th {\n",
       "        text-align: right;\n",
       "    }\n",
       "</style>\n",
       "<table border=\"1\" class=\"dataframe\">\n",
       "  <thead>\n",
       "    <tr style=\"text-align: right;\">\n",
       "      <th></th>\n",
       "      <th>Open</th>\n",
       "      <th>High</th>\n",
       "      <th>Low</th>\n",
       "      <th>Close</th>\n",
       "      <th>Volume</th>\n",
       "      <th>Dividend</th>\n",
       "      <th>Split</th>\n",
       "      <th>Adj_Open</th>\n",
       "      <th>Adj_High</th>\n",
       "      <th>Adj_Low</th>\n",
       "      <th>Adj_Close</th>\n",
       "      <th>Adj_Volume</th>\n",
       "    </tr>\n",
       "  </thead>\n",
       "  <tbody>\n",
       "  </tbody>\n",
       "</table>\n",
       "</div>"
      ],
      "text/plain": [
       "Empty DataFrame\n",
       "Columns: [Open, High, Low, Close, Volume, Dividend, Split, Adj_Open, Adj_High, Adj_Low, Adj_Close, Adj_Volume]\n",
       "Index: []"
      ]
     },
     "execution_count": 51,
     "metadata": {},
     "output_type": "execute_result"
    }
   ],
   "source": [
    "df1['2018-04-14':'2018-05-18']"
   ]
  },
  {
   "cell_type": "code",
   "execution_count": 48,
   "metadata": {},
   "outputs": [
    {
     "data": {
      "text/plain": [
       "nan"
      ]
     },
     "execution_count": 48,
     "metadata": {},
     "output_type": "execute_result"
    }
   ],
   "source": [
    "df1['2018-05-14':'2018-05-18'].Close.mean()"
   ]
  },
  {
   "cell_type": "code",
   "execution_count": 67,
   "metadata": {
    "scrolled": false
   },
   "outputs": [
    {
     "data": {
      "text/plain": [
       "<matplotlib.axes._subplots.AxesSubplot at 0x1727c2057f0>"
      ]
     },
     "execution_count": 67,
     "metadata": {},
     "output_type": "execute_result"
    },
    {
     "data": {
      "image/png": "[encoded data removed]",
      "text/plain": [
       "<Figure size 432x288 with 1 Axes>"
      ]
     },
     "metadata": {},
     "output_type": "display_data"
    }
   ],
   "source": [
    "%matplotlib inline\n",
    "df1['2018-05-14':'2018-05-18'].Close.plot(kind='pie')"
   ]
  },
  {
   "cell_type": "code",
   "execution_count": 74,
   "metadata": {},
   "outputs": [
    {
     "data": {
      "text/plain": [
       "Period('2018', 'A-DEC')"
      ]
     },
     "execution_count": 74,
     "metadata": {},
     "output_type": "execute_result"
    }
   ],
   "source": [
    "p=pd.Period(\"2018\")\n",
    "p"
   ]
  },
  {
   "cell_type": "code",
   "execution_count": 75,
   "metadata": {},
   "outputs": [
    {
     "data": {
      "text/plain": [
       "Period('2023', 'A-DEC')"
      ]
     },
     "execution_count": 75,
     "metadata": {},
     "output_type": "execute_result"
    }
   ],
   "source": [
    "p+5"
   ]
  },
  {
   "cell_type": "code",
   "execution_count": 76,
   "metadata": {},
   "outputs": [
    {
     "data": {
      "text/plain": [
       "Period('2018-01-01', 'D')"
      ]
     },
     "execution_count": 76,
     "metadata": {},
     "output_type": "execute_result"
    }
   ],
   "source": [
    "p=pd.Period(\"2018\",freq=\"D\")\n",
    "p"
   ]
  },
  {
   "cell_type": "code",
   "execution_count": 77,
   "metadata": {
    "scrolled": true
   },
   "outputs": [
    {
     "data": {
      "text/plain": [
       "Period('2018-01-07', 'D')"
      ]
     },
     "execution_count": 77,
     "metadata": {},
     "output_type": "execute_result"
    }
   ],
   "source": [
    "p+6"
   ]
  },
  {
   "cell_type": "code",
   "execution_count": 78,
   "metadata": {},
   "outputs": [
    {
     "data": {
      "text/plain": [
       "Period('2018-01-01 00:00', 'H')"
      ]
     },
     "execution_count": 78,
     "metadata": {},
     "output_type": "execute_result"
    }
   ],
   "source": [
    "p=pd.Period(\"2018\",freq=\"H\")\n",
    "p"
   ]
  },
  {
   "cell_type": "code",
   "execution_count": 80,
   "metadata": {},
   "outputs": [
    {
     "data": {
      "text/plain": [
       "Period('2018-01-02 06:00', 'H')"
      ]
     },
     "execution_count": 80,
     "metadata": {},
     "output_type": "execute_result"
    }
   ],
   "source": [
    "p+30"
   ]
  },
  {
   "cell_type": "code",
   "execution_count": 81,
   "metadata": {},
   "outputs": [
    {
     "data": {
      "text/plain": [
       "Period('2018Q1', 'Q-DEC')"
      ]
     },
     "execution_count": 81,
     "metadata": {},
     "output_type": "execute_result"
    }
   ],
   "source": [
    "p=pd.Period(\"2018\",freq=\"Q\")\n",
    "p"
   ]
  },
  {
   "cell_type": "code",
   "execution_count": 85,
   "metadata": {},
   "outputs": [
    {
     "data": {
      "text/plain": [
       "Period('2019Q1', 'Q-DEC')"
      ]
     },
     "execution_count": 85,
     "metadata": {},
     "output_type": "execute_result"
    }
   ],
   "source": [
    "p+4"
   ]
  },
  {
   "cell_type": "code",
   "execution_count": null,
   "metadata": {},
   "outputs": [],
   "source": []
  },
  {
   "cell_type": "code",
   "execution_count": null,
   "metadata": {},
   "outputs": [],
   "source": []
  },
  {
   "cell_type": "code",
   "execution_count": 86,
   "metadata": {},
   "outputs": [],
   "source": [
    "# import requests\n",
    "import urllib.request as ur"
   ]
  },
  {
   "cell_type": "code",
   "execution_count": 87,
   "metadata": {
    "collapsed": true
   },
   "outputs": [
    {
     "data": {
      "text/plain": [
       "'{\"results\":[{\"vote_count\":713,\"id\":351286,\"video\":false,\"vote_average\":6.8,\"title\":\"Jurassic World: Fallen Kingdom\",\"popularity\":294.688946,\"poster_path\":\"\\\\/c9XxwwhPHdaImA2f1WEfEsbhaFB.jpg\",\"original_language\":\"en\",\"original_title\":\"Jurassic World: Fallen Kingdom\",\"genre_ids\":[28,12,878],\"backdrop_path\":\"\\\\/gBmrsugfWpiXRh13Vo3j0WW55qD.jpg\",\"adult\":false,\"overview\":\"A volcanic eruption threatens the remaining dinosaurs on the island of Isla Nublar, where the creatures have freely roamed for several years after the demise of an animal theme park known as Jurassic World. Claire Dearing, the former park manager, has now founded the Dinosaur Protection Group, an organization dedicated to protecting the dinosaurs. To help with her cause, Claire has recruited Owen Grady, a former dinosaur trainer who worked at the park, to prevent the extinction of the dinosaurs once again.\",\"release_date\":\"2018-06-06\"},{\"vote_count\":2356,\"id\":383498,\"video\":false,\"vote_average\":7.7,\"title\":\"Deadpool 2\",\"popularity\":193.061892,\"poster_path\":\"\\\\/to0spRl1CMDvyUbOnbb4fTk3VAd.jpg\",\"original_language\":\"en\",\"original_title\":\"Deadpool 2\",\"genre_ids\":[28,35,878],\"backdrop_path\":\"\\\\/3P52oz9HPQWxcwHOwxtyrVV1LKi.jpg\",\"adult\":false,\"overview\":\"Wisecracking mercenary Deadpool battles the evil and powerful Cable and other bad guys to save a boy\\'s life.\",\"release_date\":\"2018-05-15\"},{\"vote_count\":125,\"id\":260513,\"video\":false,\"vote_average\":7.4,\"title\":\"Incredibles 2\",\"popularity\":141.461009,\"poster_path\":\"\\\\/hL9Uz2vq93vi20oxZEBBaSs4w8U.jpg\",\"original_language\":\"en\",\"original_title\":\"Incredibles 2\",\"genre_ids\":[28,12,16,10751],\"backdrop_path\":\"\\\\/mabuNsGJgRuCTuGqjFkWe1xdu19.jpg\",\"adult\":false,\"overview\":\"Elastigirl springs into action to save the day, while Mr. Incredible faces his greatest challenge yet – taking care of the problems of his three children.\",\"release_date\":\"2018-06-14\"},{\"vote_count\":4949,\"id\":299536,\"video\":false,\"vote_average\":8.4,\"title\":\"Avengers: Infinity War\",\"popularity\":138.503909,\"poster_path\":\"\\\\/7WsyChQLEftFiDOVTGkv3hFpyyt.jpg\",\"original_language\":\"en\",\"original_title\":\"Avengers: Infinity War\",\"genre_ids\":[12,878,14,28],\"backdrop_path\":\"\\\\/lmZFxXgJE3vgrciwuDib0N8CfQo.jpg\",\"adult\":false,\"overview\":\"As the Avengers and their allies have continued to protect the world from threats too large for any one hero to handle, a new danger has emerged from the cosmic shadows: Thanos. A despot of intergalactic infamy, his goal is to collect all six Infinity Stones, artifacts of unimaginable power, and use them to inflict his twisted will on all of reality. Everything the Avengers have fought for has led up to this moment - the fate of Earth and existence itself has never been more uncertain.\",\"release_date\":\"2018-04-25\"},{\"vote_count\":46,\"id\":525102,\"video\":false,\"vote_average\":3.6,\"title\":\"Girl Lost\",\"popularity\":115.513369,\"poster_path\":\"\\\\/n3PDMPyFG04bcXUHHhRIwWd9cx1.jpg\",\"original_language\":\"en\",\"original_title\":\"Girl Lost\",\"genre_ids\":[18],\"backdrop_path\":\"\\\\/j3FnUedjz0NHYFfZ62u9WsBU0wy.jpg\",\"adult\":false,\"overview\":\"Girl Lost tackles the issue of underage prostitution as told through the eyes of a wayward teen. Groomed by her own mother to work in the underbelly of Los Angeles, the young girl struggles to survive in this dark world.\",\"release_date\":\"2018-05-01\"},{\"vote_count\":213,\"id\":402900,\"video\":false,\"vote_average\":6.7,\"title\":\"Ocean\\'s 8\",\"popularity\":77.460504,\"poster_path\":\"\\\\/MvYpKlpFukTivnlBhizGbkAe3v.jpg\",\"original_language\":\"en\",\"original_title\":\"Ocean\\'s 8\",\"genre_ids\":[80,35,28,53],\"backdrop_path\":\"\\\\/zBIfBeStaDdDdhBrSx8InhgFUVa.jpg\",\"adult\":false,\"overview\":\"Debbie Ocean, a criminal mastermind, gathers a crew of seven other female thieves to pull off the heist of the century at New York\\'s annual Met Gala.\",\"release_date\":\"2018-06-07\"},{\"vote_count\":964,\"id\":348350,\"video\":false,\"vote_average\":6.8,\"title\":\"Solo: A Star Wars Story\",\"popularity\":67.918492,\"poster_path\":\"\\\\/4oD6VEccFkorEBTEDXtpLAaz0Rl.jpg\",\"original_language\":\"en\",\"original_title\":\"Solo: A Star Wars Story\",\"genre_ids\":[28,12,878],\"backdrop_path\":\"\\\\/7LZ0K4FsALrt7OeNIGOVLNuKQRU.jpg\",\"adult\":false,\"overview\":\"Through a series of daring escapades deep within a dark and dangerous criminal underworld, Han Solo meets his mighty future copilot Chewbacca and encounters the notorious gambler Lando Calrissian.\",\"release_date\":\"2018-05-23\"},{\"vote_count\":738,\"id\":449176,\"video\":false,\"vote_average\":8.3,\"title\":\"Love, Simon\",\"popularity\":60.500564,\"poster_path\":\"\\\\/5YUYg5q7QfC4IoNwNUtiwdiYKPr.jpg\",\"original_language\":\"en\",\"original_title\":\"Love, Simon\",\"genre_ids\":[35,18,10749],\"backdrop_path\":\"\\\\/rqMEeajyzSF4PpJtdCB816Iz8Vr.jpg\",\"adult\":false,\"overview\":\"Everyone deserves a great love story. But for seventeen-year old Simon Spier it\\'s a little more complicated: he\\'s yet to tell his family or friends he\\'s gay and he doesn\\'t know the identity of the anonymous classmate he\\'s fallen for online.\",\"release_date\":\"2018-03-16\"},{\"vote_count\":1492,\"id\":401981,\"video\":false,\"vote_average\":6.4,\"title\":\"Red Sparrow\",\"popularity\":50.838961,\"poster_path\":\"\\\\/vLCogyfQGxVLDC1gqUdNAIkc29L.jpg\",\"original_language\":\"en\",\"original_title\":\"Red Sparrow\",\"genre_ids\":[9648,53],\"backdrop_path\":\"\\\\/sGzuQYSTwJvLBc2PnuSVLHhuFeh.jpg\",\"adult\":false,\"overview\":\"Prima ballerina, Dominika Egorova faces a bleak and uncertain future after she suffers an injury that ends her career. She soon turns to Sparrow School, a secret intelligence service that trains exceptional young people to use their minds and bodies as weapons. Dominika emerges as the most dangerous Sparrow after completing the sadistic training process. As she comes to terms with her new abilities, she meets a CIA agent who tries to convince her that he is the only person she can trust.\",\"release_date\":\"2018-03-01\"},{\"vote_count\":132,\"id\":493922,\"video\":false,\"vote_average\":6.8,\"title\":\"Hereditary\",\"popularity\":49.798715,\"poster_path\":\"\\\\/4GFPuL14eXi66V96xBWY73Y9PfR.jpg\",\"original_language\":\"en\",\"original_title\":\"Hereditary\",\"genre_ids\":[27,18,9648,53],\"backdrop_path\":\"\\\\/yVWiOMpzf7gullGvug83r7gMdha.jpg\",\"adult\":false,\"overview\":\"After their reclusive grandmother passes away, the Graham family tries to escape the dark fate they\\'ve inherited.\",\"release_date\":\"2018-06-04\"},{\"vote_count\":737,\"id\":427641,\"video\":false,\"vote_average\":5.9,\"title\":\"Rampage\",\"popularity\":49.303251,\"poster_path\":\"\\\\/3gIO6mCd4Q4PF1tuwcyI3sjFrtI.jpg\",\"original_language\":\"en\",\"original_title\":\"Rampage\",\"genre_ids\":[28,12,878],\"backdrop_path\":\"\\\\/wrqUiMXttHE4UBFMhLHlN601MZh.jpg\",\"adult\":false,\"overview\":\"Primatologist Davis Okoye shares an unshakable bond with George, the extraordinarily intelligent, silverback gorilla who has been in his care since birth.  But a rogue genetic experiment gone awry mutates this gentle ape into a raging creature of enormous size.  To make matters worse, it’s soon discovered there are other similarly altered animals.  As these newly created alpha predators tear across North America, destroying everything in their path, Okoye teams with a discredited genetic engineer to secure an antidote, fighting his way through an ever-changing battlefield, not only to halt a global catastrophe but to save the fearsome creature that was once his friend.\",\"release_date\":\"2018-04-12\"},{\"vote_count\":458,\"id\":395990,\"video\":false,\"vote_average\":5.5,\"title\":\"Death Wish\",\"popularity\":43.497965,\"poster_path\":\"\\\\/7FG13lLQcV9DC2Bhn0hjxc6AFXV.jpg\",\"original_language\":\"en\",\"original_title\":\"Death Wish\",\"genre_ids\":[28,80,18,53],\"backdrop_path\":\"\\\\/uQqQvmptJLPTcWDrZXn22p7j7s3.jpg\",\"adult\":false,\"overview\":\"A mild-mannered father is transformed into a killing machine after his family is torn apart by a violent act.\",\"release_date\":\"2018-03-02\"},{\"vote_count\":1342,\"id\":447332,\"video\":false,\"vote_average\":7.3,\"title\":\"A Quiet Place\",\"popularity\":43.445397,\"poster_path\":\"\\\\/nAU74GmpUk7t5iklEp3bufwDq4n.jpg\",\"original_language\":\"en\",\"original_title\":\"A Quiet Place\",\"genre_ids\":[18,27,53,878],\"backdrop_path\":\"\\\\/roYyPiQDQKmIKUEhO912693tSja.jpg\",\"adult\":false,\"overview\":\"A family is forced to live in silence while hiding from creatures that hunt by sound.\",\"release_date\":\"2018-04-05\"},{\"vote_count\":214,\"id\":460019,\"video\":false,\"vote_average\":5.9,\"title\":\"Truth or Dare\",\"popularity\":42.005029,\"poster_path\":\"\\\\/zbvziwnZa91AJD78Si0hUb5JP5X.jpg\",\"original_language\":\"en\",\"original_title\":\"Truth or Dare\",\"genre_ids\":[53,27],\"backdrop_path\":\"\\\\/eQ5xu2pQ5Kergubto5PbbUzey28.jpg\",\"adult\":false,\"overview\":\"A harmless game of \\\\\"Truth or Dare\\\\\" among friends turns deadly when someone—or something—begins to punish those who tell a lie—or refuse the dare.\",\"release_date\":\"2018-04-12\"},{\"vote_count\":309,\"id\":419478,\"video\":false,\"vote_average\":7.8,\"title\":\"Midnight Sun\",\"popularity\":38.813874,\"poster_path\":\"\\\\/vPG2zEKPXhovPW9S91SRnwr5JM1.jpg\",\"original_language\":\"en\",\"original_title\":\"Midnight Sun\",\"genre_ids\":[10749,18],\"backdrop_path\":\"\\\\/o1i7daIYTaD61hbcXFYS4o8Zflf.jpg\",\"adult\":false,\"overview\":\"Katie, a 17-year-old, has been sheltered since childhood and confined to her house during the day by a rare disease that makes even the smallest amount of sunlight deadly. Fate intervenes when she meets Charlie and they embark on a summer romance.\",\"release_date\":\"2018-03-22\"},{\"vote_count\":946,\"id\":445571,\"video\":false,\"vote_average\":7,\"title\":\"Game Night\",\"popularity\":38.329332,\"poster_path\":\"\\\\/85R8LMyn9f2Lev2YPBF8Nughrkv.jpg\",\"original_language\":\"en\",\"original_title\":\"Game Night\",\"genre_ids\":[9648,35,80,53],\"backdrop_path\":\"\\\\/nFQYnpri9kqJ91sG1IfyhukhdrD.jpg\",\"adult\":false,\"overview\":\"Max and Annie\\'s weekly game night gets kicked up a notch when Max\\'s brother Brooks arranges a murder mystery party -- complete with fake thugs and federal agents. So when Brooks gets kidnapped, it\\'s all supposed to be part of the game. As the competitors set out to solve the case, they start to learn that neither the game nor Brooks are what they seem to be. The friends soon find themselves in over their heads as each twist leads to another unexpected turn over the course of one chaotic night.\",\"release_date\":\"2018-02-22\"},{\"vote_count\":13,\"id\":490214,\"video\":false,\"vote_average\":4.4,\"title\":\"Iceman 2\",\"popularity\":38.108224,\"poster_path\":\"\\\\/enZENHd2gwVAw4sJKJxtJl1vJ09.jpg\",\"original_language\":\"cn\",\"original_title\":\"时空行者\",\"genre_ids\":[28,35,36],\"backdrop_path\":\"\\\\/6SOLRw0mLepY83uonpbhWIe8mWx.jpg\",\"adult\":false,\"overview\":\"The imperial guard and his three traitorous childhood friends ordered to hunt him down get accidentally buried and kept frozen in time. 400 years later pass and they are defrosted continuing the battle they left behind\",\"release_date\":\"2018-05-18\"},{\"vote_count\":70,\"id\":476299,\"video\":false,\"vote_average\":7.8,\"title\":\"Ghostland\",\"popularity\":32.06971,\"poster_path\":\"\\\\/zP5BqXAhL9BTi4Si500qYVdMFy6.jpg\",\"original_language\":\"en\",\"original_title\":\"Ghostland\",\"genre_ids\":[27,9648,53,18],\"backdrop_path\":\"\\\\/oFyptNOx02o8sMcSsax4GSCAemg.jpg\",\"adult\":false,\"overview\":\"A mother of two inherits a home from her aunt. On the first night in the new home she is confronted with murderous intruders and fights for her daughters\\' lives. Sixteen years later the daughters reunite at the house, and that is when things get strange...\",\"release_date\":\"2018-03-15\"},{\"vote_count\":96,\"id\":370567,\"video\":false,\"vote_average\":5.1,\"title\":\"Sherlock Gnomes\",\"popularity\":31.678074,\"poster_path\":\"\\\\/xHdf2wRgCSp9MrZRryikiZIH6jB.jpg\",\"original_language\":\"en\",\"original_title\":\"Sherlock Gnomes\",\"genre_ids\":[10749,16,35,10751,14,9648,12],\"backdrop_path\":\"\\\\/dmbD8FDr6DDdinGEs14HC2FmY2w.jpg\",\"adult\":false,\"overview\":\"Garden gnomes, Gnomeo & Juliet, recruit renown detective, Sherlock Gnomes, to investigate the mysterious disappearance of other garden ornaments.\",\"release_date\":\"2018-03-15\"},{\"vote_count\":2352,\"id\":8392,\"video\":false,\"vote_average\":8.1,\"title\":\"My Neighbor Totoro\",\"popularity\":27.450323,\"poster_path\":\"\\\\/2i0OOjvi7CqNQA6ZtYJtL65P9oZ.jpg\",\"original_language\":\"ja\",\"original_title\":\"となりのトトロ\",\"genre_ids\":[14,16,10751],\"backdrop_path\":\"\\\\/fYU3ckVE1zECs42ZO0uSoJpwlXi.jpg\",\"adult\":false,\"overview\":\"Two sisters move to the country with their father in order to be closer to their hospitalized mother, and discover the surrounding trees are inhabited by Totoros, magical spirits of the forest. When the youngest runs away from home, the older sister seeks help from the spirits to find her.\",\"release_date\":\"1988-04-16\"}],\"page\":1,\"total_results\":1090,\"dates\":{\"maximum\":\"2018-06-17\",\"minimum\":\"2018-04-29\"},\"total_pages\":55}'"
      ]
     },
     "execution_count": 87,
     "metadata": {},
     "output_type": "execute_result"
    }
   ],
   "source": [
    "conn=ur.urlopen(\"https://api.themoviedb.org/3/movie/now_playing?api_key=470727176eb42bd2a9aa9c3e07a16037&language=en-US&page=1\")\n",
    "data=conn.read().decode(\"utf-8\")\n",
    "data"
   ]
  },
  {
   "cell_type": "code",
   "execution_count": 89,
   "metadata": {},
   "outputs": [
    {
     "data": {
      "text/plain": [
       "str"
      ]
     },
     "execution_count": 89,
     "metadata": {},
     "output_type": "execute_result"
    }
   ],
   "source": [
    "type(data)"
   ]
  },
  {
   "cell_type": "code",
   "execution_count": 90,
   "metadata": {},
   "outputs": [],
   "source": [
    "import json"
   ]
  },
  {
   "cell_type": "code",
   "execution_count": 91,
   "metadata": {},
   "outputs": [
    {
     "data": {
      "text/plain": [
       "{'dates': {'maximum': '2018-06-17', 'minimum': '2018-04-29'},\n",
       " 'page': 1,\n",
       " 'results': [{'adult': False,\n",
       "   'backdrop_path': '/gBmrsugfWpiXRh13Vo3j0WW55qD.jpg',\n",
       "   'genre_ids': [28, 12, 878],\n",
       "   'id': 351286,\n",
       "   'original_language': 'en',\n",
       "   'original_title': 'Jurassic World: Fallen Kingdom',\n",
       "   'overview': 'A volcanic eruption threatens the remaining dinosaurs on the island of Isla Nublar, where the creatures have freely roamed for several years after the demise of an animal theme park known as Jurassic World. Claire Dearing, the former park manager, has now founded the Dinosaur Protection Group, an organization dedicated to protecting the dinosaurs. To help with her cause, Claire has recruited Owen Grady, a former dinosaur trainer who worked at the park, to prevent the extinction of the dinosaurs once again.',\n",
       "   'popularity': 294.688946,\n",
       "   'poster_path': '/c9XxwwhPHdaImA2f1WEfEsbhaFB.jpg',\n",
       "   'release_date': '2018-06-06',\n",
       "   'title': 'Jurassic World: Fallen Kingdom',\n",
       "   'video': False,\n",
       "   'vote_average': 6.8,\n",
       "   'vote_count': 713},\n",
       "  {'adult': False,\n",
       "   'backdrop_path': '/3P52oz9HPQWxcwHOwxtyrVV1LKi.jpg',\n",
       "   'genre_ids': [28, 35, 878],\n",
       "   'id': 383498,\n",
       "   'original_language': 'en',\n",
       "   'original_title': 'Deadpool 2',\n",
       "   'overview': \"Wisecracking mercenary Deadpool battles the evil and powerful Cable and other bad guys to save a boy's life.\",\n",
       "   'popularity': 193.061892,\n",
       "   'poster_path': '/to0spRl1CMDvyUbOnbb4fTk3VAd.jpg',\n",
       "   'release_date': '2018-05-15',\n",
       "   'title': 'Deadpool 2',\n",
       "   'video': False,\n",
       "   'vote_average': 7.7,\n",
       "   'vote_count': 2356},\n",
       "  {'adult': False,\n",
       "   'backdrop_path': '/mabuNsGJgRuCTuGqjFkWe1xdu19.jpg',\n",
       "   'genre_ids': [28, 12, 16, 10751],\n",
       "   'id': 260513,\n",
       "   'original_language': 'en',\n",
       "   'original_title': 'Incredibles 2',\n",
       "   'overview': 'Elastigirl springs into action to save the day, while Mr. Incredible faces his greatest challenge yet – taking care of the problems of his three children.',\n",
       "   'popularity': 141.461009,\n",
       "   'poster_path': '/hL9Uz2vq93vi20oxZEBBaSs4w8U.jpg',\n",
       "   'release_date': '2018-06-14',\n",
       "   'title': 'Incredibles 2',\n",
       "   'video': False,\n",
       "   'vote_average': 7.4,\n",
       "   'vote_count': 125},\n",
       "  {'adult': False,\n",
       "   'backdrop_path': '/lmZFxXgJE3vgrciwuDib0N8CfQo.jpg',\n",
       "   'genre_ids': [12, 878, 14, 28],\n",
       "   'id': 299536,\n",
       "   'original_language': 'en',\n",
       "   'original_title': 'Avengers: Infinity War',\n",
       "   'overview': 'As the Avengers and their allies have continued to protect the world from threats too large for any one hero to handle, a new danger has emerged from the cosmic shadows: Thanos. A despot of intergalactic infamy, his goal is to collect all six Infinity Stones, artifacts of unimaginable power, and use them to inflict his twisted will on all of reality. Everything the Avengers have fought for has led up to this moment - the fate of Earth and existence itself has never been more uncertain.',\n",
       "   'popularity': 138.503909,\n",
       "   'poster_path': '/7WsyChQLEftFiDOVTGkv3hFpyyt.jpg',\n",
       "   'release_date': '2018-04-25',\n",
       "   'title': 'Avengers: Infinity War',\n",
       "   'video': False,\n",
       "   'vote_average': 8.4,\n",
       "   'vote_count': 4949},\n",
       "  {'adult': False,\n",
       "   'backdrop_path': '/j3FnUedjz0NHYFfZ62u9WsBU0wy.jpg',\n",
       "   'genre_ids': [18],\n",
       "   'id': 525102,\n",
       "   'original_language': 'en',\n",
       "   'original_title': 'Girl Lost',\n",
       "   'overview': 'Girl Lost tackles the issue of underage prostitution as told through the eyes of a wayward teen. Groomed by her own mother to work in the underbelly of Los Angeles, the young girl struggles to survive in this dark world.',\n",
       "   'popularity': 115.513369,\n",
       "   'poster_path': '/n3PDMPyFG04bcXUHHhRIwWd9cx1.jpg',\n",
       "   'release_date': '2018-05-01',\n",
       "   'title': 'Girl Lost',\n",
       "   'video': False,\n",
       "   'vote_average': 3.6,\n",
       "   'vote_count': 46},\n",
       "  {'adult': False,\n",
       "   'backdrop_path': '/zBIfBeStaDdDdhBrSx8InhgFUVa.jpg',\n",
       "   'genre_ids': [80, 35, 28, 53],\n",
       "   'id': 402900,\n",
       "   'original_language': 'en',\n",
       "   'original_title': \"Ocean's 8\",\n",
       "   'overview': \"Debbie Ocean, a criminal mastermind, gathers a crew of seven other female thieves to pull off the heist of the century at New York's annual Met Gala.\",\n",
       "   'popularity': 77.460504,\n",
       "   'poster_path': '/MvYpKlpFukTivnlBhizGbkAe3v.jpg',\n",
       "   'release_date': '2018-06-07',\n",
       "   'title': \"Ocean's 8\",\n",
       "   'video': False,\n",
       "   'vote_average': 6.7,\n",
       "   'vote_count': 213},\n",
       "  {'adult': False,\n",
       "   'backdrop_path': '/7LZ0K4FsALrt7OeNIGOVLNuKQRU.jpg',\n",
       "   'genre_ids': [28, 12, 878],\n",
       "   'id': 348350,\n",
       "   'original_language': 'en',\n",
       "   'original_title': 'Solo: A Star Wars Story',\n",
       "   'overview': 'Through a series of daring escapades deep within a dark and dangerous criminal underworld, Han Solo meets his mighty future copilot Chewbacca and encounters the notorious gambler Lando Calrissian.',\n",
       "   'popularity': 67.918492,\n",
       "   'poster_path': '/4oD6VEccFkorEBTEDXtpLAaz0Rl.jpg',\n",
       "   'release_date': '2018-05-23',\n",
       "   'title': 'Solo: A Star Wars Story',\n",
       "   'video': False,\n",
       "   'vote_average': 6.8,\n",
       "   'vote_count': 964},\n",
       "  {'adult': False,\n",
       "   'backdrop_path': '/rqMEeajyzSF4PpJtdCB816Iz8Vr.jpg',\n",
       "   'genre_ids': [35, 18, 10749],\n",
       "   'id': 449176,\n",
       "   'original_language': 'en',\n",
       "   'original_title': 'Love, Simon',\n",
       "   'overview': \"Everyone deserves a great love story. But for seventeen-year old Simon Spier it's a little more complicated: he's yet to tell his family or friends he's gay and he doesn't know the identity of the anonymous classmate he's fallen for online.\",\n",
       "   'popularity': 60.500564,\n",
       "   'poster_path': '/5YUYg5q7QfC4IoNwNUtiwdiYKPr.jpg',\n",
       "   'release_date': '2018-03-16',\n",
       "   'title': 'Love, Simon',\n",
       "   'video': False,\n",
       "   'vote_average': 8.3,\n",
       "   'vote_count': 738},\n",
       "  {'adult': False,\n",
       "   'backdrop_path': '/sGzuQYSTwJvLBc2PnuSVLHhuFeh.jpg',\n",
       "   'genre_ids': [9648, 53],\n",
       "   'id': 401981,\n",
       "   'original_language': 'en',\n",
       "   'original_title': 'Red Sparrow',\n",
       "   'overview': 'Prima ballerina, Dominika Egorova faces a bleak and uncertain future after she suffers an injury that ends her career. She soon turns to Sparrow School, a secret intelligence service that trains exceptional young people to use their minds and bodies as weapons. Dominika emerges as the most dangerous Sparrow after completing the sadistic training process. As she comes to terms with her new abilities, she meets a CIA agent who tries to convince her that he is the only person she can trust.',\n",
       "   'popularity': 50.838961,\n",
       "   'poster_path': '/vLCogyfQGxVLDC1gqUdNAIkc29L.jpg',\n",
       "   'release_date': '2018-03-01',\n",
       "   'title': 'Red Sparrow',\n",
       "   'video': False,\n",
       "   'vote_average': 6.4,\n",
       "   'vote_count': 1492},\n",
       "  {'adult': False,\n",
       "   'backdrop_path': '/yVWiOMpzf7gullGvug83r7gMdha.jpg',\n",
       "   'genre_ids': [27, 18, 9648, 53],\n",
       "   'id': 493922,\n",
       "   'original_language': 'en',\n",
       "   'original_title': 'Hereditary',\n",
       "   'overview': \"After their reclusive grandmother passes away, the Graham family tries to escape the dark fate they've inherited.\",\n",
       "   'popularity': 49.798715,\n",
       "   'poster_path': '/4GFPuL14eXi66V96xBWY73Y9PfR.jpg',\n",
       "   'release_date': '2018-06-04',\n",
       "   'title': 'Hereditary',\n",
       "   'video': False,\n",
       "   'vote_average': 6.8,\n",
       "   'vote_count': 132},\n",
       "  {'adult': False,\n",
       "   'backdrop_path': '/wrqUiMXttHE4UBFMhLHlN601MZh.jpg',\n",
       "   'genre_ids': [28, 12, 878],\n",
       "   'id': 427641,\n",
       "   'original_language': 'en',\n",
       "   'original_title': 'Rampage',\n",
       "   'overview': 'Primatologist Davis Okoye shares an unshakable bond with George, the extraordinarily intelligent, silverback gorilla who has been in his care since birth.  But a rogue genetic experiment gone awry mutates this gentle ape into a raging creature of enormous size.  To make matters worse, it’s soon discovered there are other similarly altered animals.  As these newly created alpha predators tear across North America, destroying everything in their path, Okoye teams with a discredited genetic engineer to secure an antidote, fighting his way through an ever-changing battlefield, not only to halt a global catastrophe but to save the fearsome creature that was once his friend.',\n",
       "   'popularity': 49.303251,\n",
       "   'poster_path': '/3gIO6mCd4Q4PF1tuwcyI3sjFrtI.jpg',\n",
       "   'release_date': '2018-04-12',\n",
       "   'title': 'Rampage',\n",
       "   'video': False,\n",
       "   'vote_average': 5.9,\n",
       "   'vote_count': 737},\n",
       "  {'adult': False,\n",
       "   'backdrop_path': '/uQqQvmptJLPTcWDrZXn22p7j7s3.jpg',\n",
       "   'genre_ids': [28, 80, 18, 53],\n",
       "   'id': 395990,\n",
       "   'original_language': 'en',\n",
       "   'original_title': 'Death Wish',\n",
       "   'overview': 'A mild-mannered father is transformed into a killing machine after his family is torn apart by a violent act.',\n",
       "   'popularity': 43.497965,\n",
       "   'poster_path': '/7FG13lLQcV9DC2Bhn0hjxc6AFXV.jpg',\n",
       "   'release_date': '2018-03-02',\n",
       "   'title': 'Death Wish',\n",
       "   'video': False,\n",
       "   'vote_average': 5.5,\n",
       "   'vote_count': 458},\n",
       "  {'adult': False,\n",
       "   'backdrop_path': '/roYyPiQDQKmIKUEhO912693tSja.jpg',\n",
       "   'genre_ids': [18, 27, 53, 878],\n",
       "   'id': 447332,\n",
       "   'original_language': 'en',\n",
       "   'original_title': 'A Quiet Place',\n",
       "   'overview': 'A family is forced to live in silence while hiding from creatures that hunt by sound.',\n",
       "   'popularity': 43.445397,\n",
       "   'poster_path': '/nAU74GmpUk7t5iklEp3bufwDq4n.jpg',\n",
       "   'release_date': '2018-04-05',\n",
       "   'title': 'A Quiet Place',\n",
       "   'video': False,\n",
       "   'vote_average': 7.3,\n",
       "   'vote_count': 1342},\n",
       "  {'adult': False,\n",
       "   'backdrop_path': '/eQ5xu2pQ5Kergubto5PbbUzey28.jpg',\n",
       "   'genre_ids': [53, 27],\n",
       "   'id': 460019,\n",
       "   'original_language': 'en',\n",
       "   'original_title': 'Truth or Dare',\n",
       "   'overview': 'A harmless game of \"Truth or Dare\" among friends turns deadly when someone—or something—begins to punish those who tell a lie—or refuse the dare.',\n",
       "   'popularity': 42.005029,\n",
       "   'poster_path': '/zbvziwnZa91AJD78Si0hUb5JP5X.jpg',\n",
       "   'release_date': '2018-04-12',\n",
       "   'title': 'Truth or Dare',\n",
       "   'video': False,\n",
       "   'vote_average': 5.9,\n",
       "   'vote_count': 214},\n",
       "  {'adult': False,\n",
       "   'backdrop_path': '/o1i7daIYTaD61hbcXFYS4o8Zflf.jpg',\n",
       "   'genre_ids': [10749, 18],\n",
       "   'id': 419478,\n",
       "   'original_language': 'en',\n",
       "   'original_title': 'Midnight Sun',\n",
       "   'overview': 'Katie, a 17-year-old, has been sheltered since childhood and confined to her house during the day by a rare disease that makes even the smallest amount of sunlight deadly. Fate intervenes when she meets Charlie and they embark on a summer romance.',\n",
       "   'popularity': 38.813874,\n",
       "   'poster_path': '/vPG2zEKPXhovPW9S91SRnwr5JM1.jpg',\n",
       "   'release_date': '2018-03-22',\n",
       "   'title': 'Midnight Sun',\n",
       "   'video': False,\n",
       "   'vote_average': 7.8,\n",
       "   'vote_count': 309},\n",
       "  {'adult': False,\n",
       "   'backdrop_path': '/nFQYnpri9kqJ91sG1IfyhukhdrD.jpg',\n",
       "   'genre_ids': [9648, 35, 80, 53],\n",
       "   'id': 445571,\n",
       "   'original_language': 'en',\n",
       "   'original_title': 'Game Night',\n",
       "   'overview': \"Max and Annie's weekly game night gets kicked up a notch when Max's brother Brooks arranges a murder mystery party -- complete with fake thugs and federal agents. So when Brooks gets kidnapped, it's all supposed to be part of the game. As the competitors set out to solve the case, they start to learn that neither the game nor Brooks are what they seem to be. The friends soon find themselves in over their heads as each twist leads to another unexpected turn over the course of one chaotic night.\",\n",
       "   'popularity': 38.329332,\n",
       "   'poster_path': '/85R8LMyn9f2Lev2YPBF8Nughrkv.jpg',\n",
       "   'release_date': '2018-02-22',\n",
       "   'title': 'Game Night',\n",
       "   'video': False,\n",
       "   'vote_average': 7,\n",
       "   'vote_count': 946},\n",
       "  {'adult': False,\n",
       "   'backdrop_path': '/6SOLRw0mLepY83uonpbhWIe8mWx.jpg',\n",
       "   'genre_ids': [28, 35, 36],\n",
       "   'id': 490214,\n",
       "   'original_language': 'cn',\n",
       "   'original_title': '时空行者',\n",
       "   'overview': 'The imperial guard and his three traitorous childhood friends ordered to hunt him down get accidentally buried and kept frozen in time. 400 years later pass and they are defrosted continuing the battle they left behind',\n",
       "   'popularity': 38.108224,\n",
       "   'poster_path': '/enZENHd2gwVAw4sJKJxtJl1vJ09.jpg',\n",
       "   'release_date': '2018-05-18',\n",
       "   'title': 'Iceman 2',\n",
       "   'video': False,\n",
       "   'vote_average': 4.4,\n",
       "   'vote_count': 13},\n",
       "  {'adult': False,\n",
       "   'backdrop_path': '/oFyptNOx02o8sMcSsax4GSCAemg.jpg',\n",
       "   'genre_ids': [27, 9648, 53, 18],\n",
       "   'id': 476299,\n",
       "   'original_language': 'en',\n",
       "   'original_title': 'Ghostland',\n",
       "   'overview': \"A mother of two inherits a home from her aunt. On the first night in the new home she is confronted with murderous intruders and fights for her daughters' lives. Sixteen years later the daughters reunite at the house, and that is when things get strange...\",\n",
       "   'popularity': 32.06971,\n",
       "   'poster_path': '/zP5BqXAhL9BTi4Si500qYVdMFy6.jpg',\n",
       "   'release_date': '2018-03-15',\n",
       "   'title': 'Ghostland',\n",
       "   'video': False,\n",
       "   'vote_average': 7.8,\n",
       "   'vote_count': 70},\n",
       "  {'adult': False,\n",
       "   'backdrop_path': '/dmbD8FDr6DDdinGEs14HC2FmY2w.jpg',\n",
       "   'genre_ids': [10749, 16, 35, 10751, 14, 9648, 12],\n",
       "   'id': 370567,\n",
       "   'original_language': 'en',\n",
       "   'original_title': 'Sherlock Gnomes',\n",
       "   'overview': 'Garden gnomes, Gnomeo & Juliet, recruit renown detective, Sherlock Gnomes, to investigate the mysterious disappearance of other garden ornaments.',\n",
       "   'popularity': 31.678074,\n",
       "   'poster_path': '/xHdf2wRgCSp9MrZRryikiZIH6jB.jpg',\n",
       "   'release_date': '2018-03-15',\n",
       "   'title': 'Sherlock Gnomes',\n",
       "   'video': False,\n",
       "   'vote_average': 5.1,\n",
       "   'vote_count': 96},\n",
       "  {'adult': False,\n",
       "   'backdrop_path': '/fYU3ckVE1zECs42ZO0uSoJpwlXi.jpg',\n",
       "   'genre_ids': [14, 16, 10751],\n",
       "   'id': 8392,\n",
       "   'original_language': 'ja',\n",
       "   'original_title': 'となりのトトロ',\n",
       "   'overview': 'Two sisters move to the country with their father in order to be closer to their hospitalized mother, and discover the surrounding trees are inhabited by Totoros, magical spirits of the forest. When the youngest runs away from home, the older sister seeks help from the spirits to find her.',\n",
       "   'popularity': 27.450323,\n",
       "   'poster_path': '/2i0OOjvi7CqNQA6ZtYJtL65P9oZ.jpg',\n",
       "   'release_date': '1988-04-16',\n",
       "   'title': 'My Neighbor Totoro',\n",
       "   'video': False,\n",
       "   'vote_average': 8.1,\n",
       "   'vote_count': 2352}],\n",
       " 'total_pages': 55,\n",
       " 'total_results': 1090}"
      ]
     },
     "execution_count": 91,
     "metadata": {},
     "output_type": "execute_result"
    }
   ],
   "source": [
    "data=json.loads(data)\n",
    "data"
   ]
  },
  {
   "cell_type": "code",
   "execution_count": 52,
   "metadata": {},
   "outputs": [
    {
     "ename": "NameError",
     "evalue": "name 'data' is not defined",
     "output_type": "error",
     "traceback": [
      "\u001b[1;31m---------------------------------------------------------------------------\u001b[0m",
      "\u001b[1;31mNameError\u001b[0m                                 Traceback (most recent call last)",
      "\u001b[1;32m<ipython-input-52-0387e61b55ff>\u001b[0m in \u001b[0;36m<module>\u001b[1;34m()\u001b[0m\n\u001b[1;32m----> 1\u001b[1;33m \u001b[0md\u001b[0m\u001b[1;33m=\u001b[0m\u001b[0mdata\u001b[0m\u001b[1;33m[\u001b[0m\u001b[1;34m'results'\u001b[0m\u001b[1;33m]\u001b[0m\u001b[1;33m\u001b[0m\u001b[0m\n\u001b[0m\u001b[0;32m      2\u001b[0m \u001b[0md\u001b[0m\u001b[1;33m\u001b[0m\u001b[0m\n",
      "\u001b[1;31mNameError\u001b[0m: name 'data' is not defined"
     ]
    }
   ],
   "source": [
    "d=data['results']\n",
    "d"
   ]
  },
  {
   "cell_type": "code",
   "execution_count": 95,
   "metadata": {
    "scrolled": true
   },
   "outputs": [
    {
     "data": {
      "text/html": [
       "<div>\n",
       "<style scoped>\n",
       "    .dataframe tbody tr th:only-of-type {\n",
       "        vertical-align: middle;\n",
       "    }\n",
       "\n",
       "    .dataframe tbody tr th {\n",
       "        vertical-align: top;\n",
       "    }\n",
       "\n",
       "    .dataframe thead th {\n",
       "        text-align: right;\n",
       "    }\n",
       "</style>\n",
       "<table border=\"1\" class=\"dataframe\">\n",
       "  <thead>\n",
       "    <tr style=\"text-align: right;\">\n",
       "      <th></th>\n",
       "      <th>adult</th>\n",
       "      <th>backdrop_path</th>\n",
       "      <th>genre_ids</th>\n",
       "      <th>id</th>\n",
       "      <th>original_language</th>\n",
       "      <th>original_title</th>\n",
       "      <th>overview</th>\n",
       "      <th>popularity</th>\n",
       "      <th>poster_path</th>\n",
       "      <th>release_date</th>\n",
       "      <th>title</th>\n",
       "      <th>video</th>\n",
       "      <th>vote_average</th>\n",
       "      <th>vote_count</th>\n",
       "    </tr>\n",
       "  </thead>\n",
       "  <tbody>\n",
       "    <tr>\n",
       "      <th>0</th>\n",
       "      <td>False</td>\n",
       "      <td>/gBmrsugfWpiXRh13Vo3j0WW55qD.jpg</td>\n",
       "      <td>[28, 12, 878]</td>\n",
       "      <td>351286</td>\n",
       "      <td>en</td>\n",
       "      <td>Jurassic World: Fallen Kingdom</td>\n",
       "      <td>A volcanic eruption threatens the remaining di...</td>\n",
       "      <td>294.688946</td>\n",
       "      <td>/c9XxwwhPHdaImA2f1WEfEsbhaFB.jpg</td>\n",
       "      <td>2018-06-06</td>\n",
       "      <td>Jurassic World: Fallen Kingdom</td>\n",
       "      <td>False</td>\n",
       "      <td>6.8</td>\n",
       "      <td>713</td>\n",
       "    </tr>\n",
       "    <tr>\n",
       "      <th>1</th>\n",
       "      <td>False</td>\n",
       "      <td>/3P52oz9HPQWxcwHOwxtyrVV1LKi.jpg</td>\n",
       "      <td>[28, 35, 878]</td>\n",
       "      <td>383498</td>\n",
       "      <td>en</td>\n",
       "      <td>Deadpool 2</td>\n",
       "      <td>Wisecracking mercenary Deadpool battles the ev...</td>\n",
       "      <td>193.061892</td>\n",
       "      <td>/to0spRl1CMDvyUbOnbb4fTk3VAd.jpg</td>\n",
       "      <td>2018-05-15</td>\n",
       "      <td>Deadpool 2</td>\n",
       "      <td>False</td>\n",
       "      <td>7.7</td>\n",
       "      <td>2356</td>\n",
       "    </tr>\n",
       "    <tr>\n",
       "      <th>2</th>\n",
       "      <td>False</td>\n",
       "      <td>/mabuNsGJgRuCTuGqjFkWe1xdu19.jpg</td>\n",
       "      <td>[28, 12, 16, 10751]</td>\n",
       "      <td>260513</td>\n",
       "      <td>en</td>\n",
       "      <td>Incredibles 2</td>\n",
       "      <td>Elastigirl springs into action to save the day...</td>\n",
       "      <td>141.461009</td>\n",
       "      <td>/hL9Uz2vq93vi20oxZEBBaSs4w8U.jpg</td>\n",
       "      <td>2018-06-14</td>\n",
       "      <td>Incredibles 2</td>\n",
       "      <td>False</td>\n",
       "      <td>7.4</td>\n",
       "      <td>125</td>\n",
       "    </tr>\n",
       "    <tr>\n",
       "      <th>3</th>\n",
       "      <td>False</td>\n",
       "      <td>/lmZFxXgJE3vgrciwuDib0N8CfQo.jpg</td>\n",
       "      <td>[12, 878, 14, 28]</td>\n",
       "      <td>299536</td>\n",
       "      <td>en</td>\n",
       "      <td>Avengers: Infinity War</td>\n",
       "      <td>As the Avengers and their allies have continue...</td>\n",
       "      <td>138.503909</td>\n",
       "      <td>/7WsyChQLEftFiDOVTGkv3hFpyyt.jpg</td>\n",
       "      <td>2018-04-25</td>\n",
       "      <td>Avengers: Infinity War</td>\n",
       "      <td>False</td>\n",
       "      <td>8.4</td>\n",
       "      <td>4949</td>\n",
       "    </tr>\n",
       "    <tr>\n",
       "      <th>4</th>\n",
       "      <td>False</td>\n",
       "      <td>/j3FnUedjz0NHYFfZ62u9WsBU0wy.jpg</td>\n",
       "      <td>[18]</td>\n",
       "      <td>525102</td>\n",
       "      <td>en</td>\n",
       "      <td>Girl Lost</td>\n",
       "      <td>Girl Lost tackles the issue of underage prosti...</td>\n",
       "      <td>115.513369</td>\n",
       "      <td>/n3PDMPyFG04bcXUHHhRIwWd9cx1.jpg</td>\n",
       "      <td>2018-05-01</td>\n",
       "      <td>Girl Lost</td>\n",
       "      <td>False</td>\n",
       "      <td>3.6</td>\n",
       "      <td>46</td>\n",
       "    </tr>\n",
       "  </tbody>\n",
       "</table>\n",
       "</div>"
      ],
      "text/plain": [
       "   adult                     backdrop_path            genre_ids      id  \\\n",
       "0  False  /gBmrsugfWpiXRh13Vo3j0WW55qD.jpg        [28, 12, 878]  351286   \n",
       "1  False  /3P52oz9HPQWxcwHOwxtyrVV1LKi.jpg        [28, 35, 878]  383498   \n",
       "2  False  /mabuNsGJgRuCTuGqjFkWe1xdu19.jpg  [28, 12, 16, 10751]  260513   \n",
       "3  False  /lmZFxXgJE3vgrciwuDib0N8CfQo.jpg    [12, 878, 14, 28]  299536   \n",
       "4  False  /j3FnUedjz0NHYFfZ62u9WsBU0wy.jpg                 [18]  525102   \n",
       "\n",
       "  original_language                  original_title  \\\n",
       "0                en  Jurassic World: Fallen Kingdom   \n",
       "1                en                      Deadpool 2   \n",
       "2                en                   Incredibles 2   \n",
       "3                en          Avengers: Infinity War   \n",
       "4                en                       Girl Lost   \n",
       "\n",
       "                                            overview  popularity  \\\n",
       "0  A volcanic eruption threatens the remaining di...  294.688946   \n",
       "1  Wisecracking mercenary Deadpool battles the ev...  193.061892   \n",
       "2  Elastigirl springs into action to save the day...  141.461009   \n",
       "3  As the Avengers and their allies have continue...  138.503909   \n",
       "4  Girl Lost tackles the issue of underage prosti...  115.513369   \n",
       "\n",
       "                        poster_path release_date  \\\n",
       "0  /c9XxwwhPHdaImA2f1WEfEsbhaFB.jpg   2018-06-06   \n",
       "1  /to0spRl1CMDvyUbOnbb4fTk3VAd.jpg   2018-05-15   \n",
       "2  /hL9Uz2vq93vi20oxZEBBaSs4w8U.jpg   2018-06-14   \n",
       "3  /7WsyChQLEftFiDOVTGkv3hFpyyt.jpg   2018-04-25   \n",
       "4  /n3PDMPyFG04bcXUHHhRIwWd9cx1.jpg   2018-05-01   \n",
       "\n",
       "                            title  video  vote_average  vote_count  \n",
       "0  Jurassic World: Fallen Kingdom  False           6.8         713  \n",
       "1                      Deadpool 2  False           7.7        2356  \n",
       "2                   Incredibles 2  False           7.4         125  \n",
       "3          Avengers: Infinity War  False           8.4        4949  \n",
       "4                       Girl Lost  False           3.6          46  "
      ]
     },
     "execution_count": 95,
     "metadata": {},
     "output_type": "execute_result"
    }
   ],
   "source": [
    "df=pd.DataFrame(d)\n",
    "df.head()"
   ]
  },
  {
   "cell_type": "code",
   "execution_count": 97,
   "metadata": {
    "scrolled": false
   },
   "outputs": [
    {
     "data": {
      "text/plain": [
       "array([351286, 383498, 260513, 299536, 525102, 402900, 348350, 449176,\n",
       "       401981, 493922, 427641, 395990, 447332, 460019, 419478, 445571,\n",
       "       490214, 476299, 370567,   8392], dtype=int64)"
      ]
     },
     "execution_count": 97,
     "metadata": {},
     "output_type": "execute_result"
    }
   ],
   "source": [
    "df.id.values"
   ]
  },
  {
   "cell_type": "code",
   "execution_count": null,
   "metadata": {},
   "outputs": [],
   "source": []
  },
  {
   "cell_type": "code",
   "execution_count": null,
   "metadata": {},
   "outputs": [],
   "source": []
  },
  {
   "cell_type": "code",
   "execution_count": 98,
   "metadata": {},
   "outputs": [],
   "source": [
    "from sklearn.datasets import load_iris\n",
    "from sklearn import cluster"
   ]
  },
  {
   "cell_type": "code",
   "execution_count": 105,
   "metadata": {},
   "outputs": [],
   "source": [
    "data=load_iris()\n",
    "data=data['data']"
   ]
  },
  {
   "cell_type": "code",
   "execution_count": 106,
   "metadata": {
    "scrolled": true
   },
   "outputs": [
    {
     "data": {
      "text/plain": [
       "array([[3.5, 5.1],\n",
       "       [3. , 4.9],\n",
       "       [3.2, 4.7],\n",
       "       [3.1, 4.6],\n",
       "       [3.6, 5. ],\n",
       "       [3.9, 5.4],\n",
       "       [3.4, 4.6],\n",
       "       [3.4, 5. ],\n",
       "       [2.9, 4.4],\n",
       "       [3.1, 4.9],\n",
       "       [3.7, 5.4],\n",
       "       [3.4, 4.8],\n",
       "       [3. , 4.8],\n",
       "       [3. , 4.3],\n",
       "       [4. , 5.8],\n",
       "       [4.4, 5.7],\n",
       "       [3.9, 5.4],\n",
       "       [3.5, 5.1],\n",
       "       [3.8, 5.7],\n",
       "       [3.8, 5.1],\n",
       "       [3.4, 5.4],\n",
       "       [3.7, 5.1],\n",
       "       [3.6, 4.6],\n",
       "       [3.3, 5.1],\n",
       "       [3.4, 4.8],\n",
       "       [3. , 5. ],\n",
       "       [3.4, 5. ],\n",
       "       [3.5, 5.2],\n",
       "       [3.4, 5.2],\n",
       "       [3.2, 4.7],\n",
       "       [3.1, 4.8],\n",
       "       [3.4, 5.4],\n",
       "       [4.1, 5.2],\n",
       "       [4.2, 5.5],\n",
       "       [3.1, 4.9],\n",
       "       [3.2, 5. ],\n",
       "       [3.5, 5.5],\n",
       "       [3.1, 4.9],\n",
       "       [3. , 4.4],\n",
       "       [3.4, 5.1],\n",
       "       [3.5, 5. ],\n",
       "       [2.3, 4.5],\n",
       "       [3.2, 4.4],\n",
       "       [3.5, 5. ],\n",
       "       [3.8, 5.1],\n",
       "       [3. , 4.8],\n",
       "       [3.8, 5.1],\n",
       "       [3.2, 4.6],\n",
       "       [3.7, 5.3],\n",
       "       [3.3, 5. ],\n",
       "       [3.2, 7. ],\n",
       "       [3.2, 6.4],\n",
       "       [3.1, 6.9],\n",
       "       [2.3, 5.5],\n",
       "       [2.8, 6.5],\n",
       "       [2.8, 5.7],\n",
       "       [3.3, 6.3],\n",
       "       [2.4, 4.9],\n",
       "       [2.9, 6.6],\n",
       "       [2.7, 5.2],\n",
       "       [2. , 5. ],\n",
       "       [3. , 5.9],\n",
       "       [2.2, 6. ],\n",
       "       [2.9, 6.1],\n",
       "       [2.9, 5.6],\n",
       "       [3.1, 6.7],\n",
       "       [3. , 5.6],\n",
       "       [2.7, 5.8],\n",
       "       [2.2, 6.2],\n",
       "       [2.5, 5.6],\n",
       "       [3.2, 5.9],\n",
       "       [2.8, 6.1],\n",
       "       [2.5, 6.3],\n",
       "       [2.8, 6.1],\n",
       "       [2.9, 6.4],\n",
       "       [3. , 6.6],\n",
       "       [2.8, 6.8],\n",
       "       [3. , 6.7],\n",
       "       [2.9, 6. ],\n",
       "       [2.6, 5.7],\n",
       "       [2.4, 5.5],\n",
       "       [2.4, 5.5],\n",
       "       [2.7, 5.8],\n",
       "       [2.7, 6. ],\n",
       "       [3. , 5.4],\n",
       "       [3.4, 6. ],\n",
       "       [3.1, 6.7],\n",
       "       [2.3, 6.3],\n",
       "       [3. , 5.6],\n",
       "       [2.5, 5.5],\n",
       "       [2.6, 5.5],\n",
       "       [3. , 6.1],\n",
       "       [2.6, 5.8],\n",
       "       [2.3, 5. ],\n",
       "       [2.7, 5.6],\n",
       "       [3. , 5.7],\n",
       "       [2.9, 5.7],\n",
       "       [2.9, 6.2],\n",
       "       [2.5, 5.1],\n",
       "       [2.8, 5.7],\n",
       "       [3.3, 6.3],\n",
       "       [2.7, 5.8],\n",
       "       [3. , 7.1],\n",
       "       [2.9, 6.3],\n",
       "       [3. , 6.5],\n",
       "       [3. , 7.6],\n",
       "       [2.5, 4.9],\n",
       "       [2.9, 7.3],\n",
       "       [2.5, 6.7],\n",
       "       [3.6, 7.2],\n",
       "       [3.2, 6.5],\n",
       "       [2.7, 6.4],\n",
       "       [3. , 6.8],\n",
       "       [2.5, 5.7],\n",
       "       [2.8, 5.8],\n",
       "       [3.2, 6.4],\n",
       "       [3. , 6.5],\n",
       "       [3.8, 7.7],\n",
       "       [2.6, 7.7],\n",
       "       [2.2, 6. ],\n",
       "       [3.2, 6.9],\n",
       "       [2.8, 5.6],\n",
       "       [2.8, 7.7],\n",
       "       [2.7, 6.3],\n",
       "       [3.3, 6.7],\n",
       "       [3.2, 7.2],\n",
       "       [2.8, 6.2],\n",
       "       [3. , 6.1],\n",
       "       [2.8, 6.4],\n",
       "       [3. , 7.2],\n",
       "       [2.8, 7.4],\n",
       "       [3.8, 7.9],\n",
       "       [2.8, 6.4],\n",
       "       [2.8, 6.3],\n",
       "       [2.6, 6.1],\n",
       "       [3. , 7.7],\n",
       "       [3.4, 6.3],\n",
       "       [3.1, 6.4],\n",
       "       [3. , 6. ],\n",
       "       [3.1, 6.9],\n",
       "       [3.1, 6.7],\n",
       "       [3.1, 6.9],\n",
       "       [2.7, 5.8],\n",
       "       [3.2, 6.8],\n",
       "       [3.3, 6.7],\n",
       "       [3. , 6.7],\n",
       "       [2.5, 6.3],\n",
       "       [3. , 6.5],\n",
       "       [3.4, 6.2],\n",
       "       [3. , 5.9]])"
      ]
     },
     "execution_count": 106,
     "metadata": {},
     "output_type": "execute_result"
    }
   ],
   "source": [
    "X=data[:,[1,0]]\n",
    "X"
   ]
  },
  {
   "cell_type": "code",
   "execution_count": 111,
   "metadata": {},
   "outputs": [
    {
     "data": {
      "text/plain": [
       "<matplotlib.collections.PathCollection at 0x1727dd35b00>"
      ]
     },
     "execution_count": 111,
     "metadata": {},
     "output_type": "execute_result"
    },
    {
     "data": {
      "image/png": "[encoded data removed]",
      "text/plain": [
       "<Figure size 432x288 with 1 Axes>"
      ]
     },
     "metadata": {},
     "output_type": "display_data"
    }
   ],
   "source": [
    "import matplotlib.pyplot as plt\n",
    "plt.scatter(X[:,0],X[:,1])"
   ]
  },
  {
   "cell_type": "code",
   "execution_count": 112,
   "metadata": {},
   "outputs": [],
   "source": [
    "clf=cluster.KMeans(n_clusters=3)\n",
    "c=clf.fit(X)"
   ]
  },
  {
   "cell_type": "code",
   "execution_count": 116,
   "metadata": {
    "scrolled": true
   },
   "outputs": [],
   "source": [
    "p=clf.cluster_centers_"
   ]
  },
  {
   "cell_type": "code",
   "execution_count": 117,
   "metadata": {},
   "outputs": [
    {
     "data": {
      "text/plain": [
       "<matplotlib.collections.PathCollection at 0x1727dec1668>"
      ]
     },
     "execution_count": 117,
     "metadata": {},
     "output_type": "execute_result"
    },
    {
     "data": {
      "image/png": "[encoded data removed]",
      "text/plain": [
       "<Figure size 432x288 with 1 Axes>"
      ]
     },
     "metadata": {},
     "output_type": "display_data"
    }
   ],
   "source": [
    "import matplotlib.pyplot as plt\n",
    "plt.scatter(X[:,0],X[:,1])\n",
    "plt.scatter(p[:,0],p[:,1],c=\"red\",s=150)"
   ]
  }
 ],
 "metadata": {
  "kernelspec": {
   "display_name": "Python 3",
   "language": "python",
   "name": "python3"
  },
  "language_info": {
   "codemirror_mode": {
    "name": "ipython",
    "version": 3
   },
   "file_extension": ".py",
   "mimetype": "text/x-python",
   "name": "python",
   "nbconvert_exporter": "python",
   "pygments_lexer": "ipython3",
   "version": "3.6.5"
  }
 },
 "nbformat": 4,
 "nbformat_minor": 2
}
