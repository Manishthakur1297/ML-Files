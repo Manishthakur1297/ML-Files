{
 "cells": [
  {
   "cell_type": "code",
   "execution_count": 1,
   "metadata": {},
   "outputs": [],
   "source": [
    "import numpy as np\n",
    "import matplotlib.pyplot as plt\n",
    "import pandas as pd"
   ]
  },
  {
   "cell_type": "code",
   "execution_count": 2,
   "metadata": {},
   "outputs": [],
   "source": [
    "x1 = [1,2]\n",
    "x2 = [4,5]"
   ]
  },
  {
   "cell_type": "code",
   "execution_count": 3,
   "metadata": {},
   "outputs": [
    {
     "data": {
      "text/plain": [
       "4.242640687119285"
      ]
     },
     "execution_count": 3,
     "metadata": {},
     "output_type": "execute_result"
    }
   ],
   "source": [
    "np.sqrt((x1[0]-x2[0])**2 + (x1[1]-x2[1])**2)"
   ]
  },
  {
   "cell_type": "code",
   "execution_count": 4,
   "metadata": {},
   "outputs": [],
   "source": [
    "from collections import defaultdict"
   ]
  },
  {
   "cell_type": "code",
   "execution_count": 247,
   "metadata": {},
   "outputs": [],
   "source": [
    "class KMeansCustom:\n",
    "    def __init__(self,k=2):\n",
    "        self.k = k\n",
    "    def fit(self,x,i=100,d=0.01):\n",
    "        self.centroid_final={}\n",
    "        #self.cluster_final = {}\n",
    "        n = len(x)//(self.k+1)\n",
    "        #self.result_dict = defaultdict(list)\n",
    "        for cluster in range(self.k):\n",
    "            #r = np.random.randint(len(x))\n",
    "            self.centroid_final[cluster] = x[cluster*n]\n",
    "        print(\"Previous : \")\n",
    "            \n",
    "#         for g in x:\n",
    "#             plt.scatter(g[0],g[1])\n",
    "#         for h in self.centroid_final.values():\n",
    "#             plt.scatter(h[0],h[1],c='r',s=150)\n",
    "#         plt.show()\n",
    "        \n",
    "        for rt in range(i):\n",
    "            self.cluster_final = {}\n",
    "            for p in range(self.k):\n",
    "                self.cluster_final[p]=[]\n",
    "            for j in x:\n",
    "                l=[]\n",
    "                for k_cluster in range(self.k):\n",
    "                    l.append(np.linalg.norm(self.centroid_final[k_cluster]-j))\n",
    "                self.cluster_final[l.index(min(l))].append(j)\n",
    "            new_centroid_final = {}\n",
    "            for cnt in self.cluster_final:\n",
    "                new_centroid_final[cnt]=np.average(self.cluster_final[cnt],axis=0)\n",
    "                \n",
    "            #print('Current : ',new_centroid_final)\n",
    "            \n",
    "            count= 0\n",
    "            for current_prev in self.centroid_final:\n",
    "                tol = abs(np.sum(abs(self.centroid_final[current_prev] - new_centroid_final[current_prev])))\n",
    "#                 print('resy  = ',abs(self.centroid_final[current_prev] - new_centroid_final[current_prev]))\n",
    "#                 print('resy -ve  = ',self.centroid_final[current_prev] - new_centroid_final[current_prev])\n",
    "                #print('tolerance  = ',tol)\n",
    "                if(tol<=d):\n",
    "                    count+=1\n",
    "            if(count==self.k):\n",
    "                break\n",
    "            else:\n",
    "                self.centroid_final = new_centroid_final\n",
    "            \n",
    "#             for g in x:\n",
    "#                 plt.scatter(g[0],g[1])\n",
    "#             for h in self.centroid_final.values():\n",
    "#                 plt.scatter(h[0],h[1],c='r',s=150)\n",
    "#             plt.show()\n",
    "            \n",
    "    def predict_c(self,l):\n",
    "        dist = []\n",
    "        \n",
    "        for point in self.centroid_final:\n",
    "            print('lin = ',np.linalg.norm(self.centroid_final[point]-l))\n",
    "            print('l = ',l)\n",
    "            diff = np.linalg.norm(self.centroid_final[point]-l)\n",
    "            print('diff = ',diff)\n",
    "            dist.append(diff)\n",
    "        mn = min(dist)\n",
    "        ind = dist.index(mn)\n",
    "        print('index = ',ind)\n",
    "        self.cluster_final[ind].append(l)\n",
    "        col = ['r','g','b','yellow','aqua','cyan']\n",
    "        for g in clf.cluster_final:\n",
    "            for h in clf.cluster_final[g]:\n",
    "                #print(h)\n",
    "                plt.scatter(h[0],h[1],c=col[g],s=100)\n",
    "        for h in self.centroid_final.values():     \n",
    "            plt.scatter(h[0],h[1],c='cyan',s=150)\n",
    "        plt.scatter(l[0],l[1],c='#F4E567',s=450,marker='*')\n",
    "        plt.show()\n",
    "        \n",
    "            \n",
    "            #break\n",
    "            \n",
    "#                     l.append([np.linalg.norm(self.centroid_final[k_cluster]-j),k_cluster])\n",
    "#                 m = min(l)[1]\n",
    "#                 self.result_dict[m].append(j)\n",
    "                \n",
    "        "
   ]
  },
  {
   "cell_type": "code",
   "execution_count": 248,
   "metadata": {},
   "outputs": [],
   "source": [
    "from sklearn.datasets import load_iris"
   ]
  },
  {
   "cell_type": "code",
   "execution_count": 249,
   "metadata": {},
   "outputs": [],
   "source": [
    "\n",
    "data = load_iris()\n",
    "#data"
   ]
  },
  {
   "cell_type": "code",
   "execution_count": 250,
   "metadata": {},
   "outputs": [
    {
     "data": {
      "text/plain": [
       "array([[5.1, 3.5],\n",
       "       [4.9, 3. ],\n",
       "       [4.7, 3.2],\n",
       "       [4.6, 3.1],\n",
       "       [5. , 3.6]])"
      ]
     },
     "execution_count": 250,
     "metadata": {},
     "output_type": "execute_result"
    }
   ],
   "source": [
    "\n",
    "x = data['data'][:,[0,1]]\n",
    "x[:5]"
   ]
  },
  {
   "cell_type": "code",
   "execution_count": 251,
   "metadata": {},
   "outputs": [],
   "source": [
    "clf = KMeansCustom(3\n",
    "                  )"
   ]
  },
  {
   "cell_type": "code",
   "execution_count": 252,
   "metadata": {},
   "outputs": [
    {
     "name": "stdout",
     "output_type": "stream",
     "text": [
      "Previous : \n"
     ]
    }
   ],
   "source": [
    "clf.fit(x)"
   ]
  },
  {
   "cell_type": "code",
   "execution_count": 253,
   "metadata": {},
   "outputs": [],
   "source": [
    "# for c in clf.cluster_final.items():\n",
    "#     print(c)"
   ]
  },
  {
   "cell_type": "code",
   "execution_count": 254,
   "metadata": {},
   "outputs": [
    {
     "name": "stdout",
     "output_type": "stream",
     "text": [
      "lin =  0.788137043920663\n",
      "l =  [5.6, 2.9]\n",
      "diff =  0.788137043920663\n",
      "lin =  0.27056893238103213\n",
      "l =  [5.6, 2.9]\n",
      "diff =  0.27056893238103213\n",
      "lin =  1.2252511498719587\n",
      "l =  [5.6, 2.9]\n",
      "diff =  1.2252511498719587\n",
      "index =  1\n"
     ]
    },
    {
     "data": {
      "image/png": "[encoded data removed]",
      "text/plain": [
       "<Figure size 432x288 with 1 Axes>"
      ]
     },
     "metadata": {},
     "output_type": "display_data"
    }
   ],
   "source": [
    "clf.predict_c([5.6, 2.9])"
   ]
  },
  {
   "cell_type": "code",
   "execution_count": 255,
   "metadata": {},
   "outputs": [
    {
     "data": {
      "text/plain": [
       "{0: array([5.006, 3.418]),\n",
       " 1: array([5.77358491, 2.69245283]),\n",
       " 2: array([6.81276596, 3.07446809])}"
      ]
     },
     "execution_count": 255,
     "metadata": {},
     "output_type": "execute_result"
    }
   ],
   "source": [
    "clf.centroid_final"
   ]
  },
  {
   "cell_type": "code",
   "execution_count": 256,
   "metadata": {},
   "outputs": [],
   "source": [
    "# for g in clf.cluster_final:\n",
    "#     for h in clf.cluster_final[g]:\n",
    "#         print(h)"
   ]
  },
  {
   "cell_type": "code",
   "execution_count": null,
   "metadata": {},
   "outputs": [],
   "source": []
  },
  {
   "cell_type": "code",
   "execution_count": null,
   "metadata": {},
   "outputs": [],
   "source": []
  }
 ],
 "metadata": {
  "kernelspec": {
   "display_name": "Python 3",
   "language": "python",
   "name": "python3"
  },
  "language_info": {
   "codemirror_mode": {
    "name": "ipython",
    "version": 3
   },
   "file_extension": ".py",
   "mimetype": "text/x-python",
   "name": "python",
   "nbconvert_exporter": "python",
   "pygments_lexer": "ipython3",
   "version": "3.6.5"
  }
 },
 "nbformat": 4,
 "nbformat_minor": 2
}
